{
 "cells": [
  {
   "cell_type": "markdown",
   "id": "a66127d6-cee9-4dd4-8af5-e3c8f95fcc0e",
   "metadata": {},
   "source": [
    "# DATA TYPES:"
   ]
  },
  {
   "cell_type": "markdown",
   "id": "7e169557-be17-4124-a7ad-5c2396c9f5dc",
   "metadata": {},
   "source": [
    "- integer : int \n",
    "- float \n",
    "- string\n",
    "- list\n",
    "- tuple\n",
    "- set\n",
    "- dictionary\n",
    "- frozen set \n",
    "- bool\n",
    "- complex\n",
    "- range\n",
    "- byte\n",
    "- byte array\n",
    "- memory view\n",
    "- None type "
   ]
  },
  {
   "cell_type": "markdown",
   "id": "67fcd536-49e6-41df-9a20-28c9632c78be",
   "metadata": {},
   "source": [
    "$Integer:$"
   ]
  },
  {
   "cell_type": "code",
   "execution_count": 1,
   "id": "a761ddfc-a72d-4fd2-aa46-03f8b573e20e",
   "metadata": {},
   "outputs": [
    {
     "data": {
      "text/plain": [
       "100"
      ]
     },
     "execution_count": 1,
     "metadata": {},
     "output_type": "execute_result"
    }
   ],
   "source": [
    "number=100\n",
    "number"
   ]
  },
  {
   "cell_type": "code",
   "execution_count": 3,
   "id": "775bc7a7-3517-4638-be65-bca42974e77a",
   "metadata": {},
   "outputs": [
    {
     "data": {
      "text/plain": [
       "int"
      ]
     },
     "execution_count": 3,
     "metadata": {},
     "output_type": "execute_result"
    }
   ],
   "source": [
    "type(number)\n",
    "# type is a inbuilt function "
   ]
  },
  {
   "cell_type": "markdown",
   "id": "cbae4663-b469-4762-97ac-37888460a3e4",
   "metadata": {},
   "source": [
    "# Number System :\n",
    "- Binary number system \n",
    "- Decimal number system \n",
    "- Octa number system \n",
    "- Hexa number system"
   ]
  },
  {
   "cell_type": "markdown",
   "id": "787cc934-fd40-4f3d-98be-473ba4de792d",
   "metadata": {},
   "source": [
    "**Binary Number system:**\n",
    "- It is denoted with **0b** or **0B**\n",
    "- Binary means two\n",
    "- we have generally 0 to 9 digits avaialable\n",
    "- Binary means only two digits allowed : 0 and 1\n",
    "- ex: 0b101 0b111 0b000 0b001\n",
    "- not valid: 0b123 0b143"
   ]
  },
  {
   "cell_type": "code",
   "execution_count": 4,
   "id": "ffcd73a5-48a6-4d16-9868-263860cdf935",
   "metadata": {},
   "outputs": [
    {
     "data": {
      "text/plain": [
       "29"
      ]
     },
     "execution_count": 4,
     "metadata": {},
     "output_type": "execute_result"
    }
   ],
   "source": [
    "0b11101"
   ]
  },
  {
   "cell_type": "code",
   "execution_count": 5,
   "id": "ca82e5b1-75fa-49ed-ac32-7d87ff33e4b3",
   "metadata": {},
   "outputs": [
    {
     "data": {
      "text/plain": [
       "29"
      ]
     },
     "execution_count": 5,
     "metadata": {},
     "output_type": "execute_result"
    }
   ],
   "source": [
    "0b11101"
   ]
  },
  {
   "cell_type": "code",
   "execution_count": 6,
   "id": "83997055-6108-41d1-8a6c-807f903faeb0",
   "metadata": {},
   "outputs": [
    {
     "data": {
      "text/plain": [
       "5"
      ]
     },
     "execution_count": 6,
     "metadata": {},
     "output_type": "execute_result"
    }
   ],
   "source": [
    "0b101"
   ]
  },
  {
   "cell_type": "code",
   "execution_count": 7,
   "id": "bffce0d0-2c42-4158-a719-f98e28518b45",
   "metadata": {},
   "outputs": [
    {
     "data": {
      "text/plain": [
       "7"
      ]
     },
     "execution_count": 7,
     "metadata": {},
     "output_type": "execute_result"
    }
   ],
   "source": [
    "0b111"
   ]
  },
  {
   "cell_type": "code",
   "execution_count": 8,
   "id": "e2ab2fb8-e035-40ed-822d-d43645d6c245",
   "metadata": {},
   "outputs": [
    {
     "data": {
      "text/plain": [
       "0"
      ]
     },
     "execution_count": 8,
     "metadata": {},
     "output_type": "execute_result"
    }
   ],
   "source": [
    "0b000"
   ]
  },
  {
   "cell_type": "code",
   "execution_count": 18,
   "id": "f75b3bf3-63b1-4170-9218-20a412b44cfc",
   "metadata": {},
   "outputs": [
    {
     "data": {
      "text/plain": [
       "10"
      ]
     },
     "execution_count": 18,
     "metadata": {},
     "output_type": "execute_result"
    }
   ],
   "source": [
    "0b1010"
   ]
  },
  {
   "cell_type": "markdown",
   "id": "ac13d2c9-ecbe-47c3-9207-c2c5878cfec4",
   "metadata": {},
   "source": [
    "2^3 2^2 2^1 2^0\n",
    "8   4    2   1\n",
    "####################################\n",
    "0    0    0   0  0\n",
    "0    0    0   1  1\n",
    "0    0    1   0  2\n",
    "0    0    1   1  3\n",
    "0    1    0   0  4\n",
    "0    1    0   1  5\n",
    "0    1    1   0  6\n",
    "0    1    1   1  7\n",
    "1    0    0   0  8\n",
    "1    0    0   1  9\n",
    "1    0    1   0  10\n",
    "1    0    1   1  11\n",
    "1    1    0   0  12\n",
    "1    1    0   1  13\n",
    "1    1    1   0  14\n",
    "1    1    1   1  15"
   ]
  },
  {
   "cell_type": "markdown",
   "id": "50576c01-1ded-4bd5-8d6e-3987740ac92f",
   "metadata": {},
   "source": [
    "**Octa Number System:**\n",
    "- It is denoted with **0o** or **0O**\n",
    "- Octo means 8\n",
    "- we have generally 0 to 9 digits available\n",
    "- Octa means only seven digits allowed : 0,1,2,3,4,5,6,7\n",
    "- ex: 0o567 0o111 0o000 0o672\n",
    "- not valid: 0o768 00169"
   ]
  },
  {
   "cell_type": "code",
   "execution_count": 19,
   "id": "8600803c-8c59-4146-a958-f7404e020cef",
   "metadata": {},
   "outputs": [
    {
     "data": {
      "text/plain": [
       "442"
      ]
     },
     "execution_count": 19,
     "metadata": {},
     "output_type": "execute_result"
    }
   ],
   "source": [
    "0o672"
   ]
  },
  {
   "cell_type": "markdown",
   "id": "763efbc0-2688-4cf2-8de7-9e6c62dd954b",
   "metadata": {},
   "source": [
    "**Hexa Number System:**\n",
    "- It is denoted with **0x** or **0x**\n",
    "- Hexa means 16\n",
    "- we have generally 0 to 9 digits available\n",
    "- Hexa means only 16 digits allowed : 0 to 9 A to F\n",
    "- A:10 B:11 C:12 D:13 E:14 F:15\n",
    "- ex: 0xabc 0XA1\n",
    "- not valid: 0xefg"
   ]
  },
  {
   "cell_type": "code",
   "execution_count": 16,
   "id": "3f3d81dc-45d9-471a-abf2-4513b23b4999",
   "metadata": {},
   "outputs": [
    {
     "data": {
      "text/plain": [
       "2748"
      ]
     },
     "execution_count": 16,
     "metadata": {},
     "output_type": "execute_result"
    }
   ],
   "source": [
    "0xabc"
   ]
  },
  {
   "cell_type": "markdown",
   "id": "e7b086fc-6c22-4f2a-b217-e6f058ebf626",
   "metadata": {},
   "source": [
    "2025 task \n",
    "- binary \n",
    "- oct \n",
    "- hexa "
   ]
  },
  {
   "cell_type": "markdown",
   "id": "9b445817-fb07-4689-a6db-b1cab071ef49",
   "metadata": {},
   "source": [
    "# Float "
   ]
  },
  {
   "cell_type": "code",
   "execution_count": 20,
   "id": "f3f566d5-247e-47ca-affd-70e8cc95a198",
   "metadata": {},
   "outputs": [
    {
     "data": {
      "text/plain": [
       "float"
      ]
     },
     "execution_count": 20,
     "metadata": {},
     "output_type": "execute_result"
    }
   ],
   "source": [
    "number=10.5\n",
    "type(number)"
   ]
  },
  {
   "cell_type": "markdown",
   "id": "fe18c0ef-073b-4438-a524-8b194e7981e2",
   "metadata": {},
   "source": [
    "**e representation**"
   ]
  },
  {
   "cell_type": "code",
   "execution_count": 22,
   "id": "fce1d006-ebaa-4429-8f87-d285c77eedf1",
   "metadata": {},
   "outputs": [
    {
     "data": {
      "text/plain": [
       "10.0"
      ]
     },
     "execution_count": 22,
     "metadata": {},
     "output_type": "execute_result"
    }
   ],
   "source": [
    "1e1 # 1*10"
   ]
  },
  {
   "cell_type": "code",
   "execution_count": 23,
   "id": "e5edcc3d-929b-4378-8790-f0f652bebe25",
   "metadata": {},
   "outputs": [
    {
     "data": {
      "text/plain": [
       "100.0"
      ]
     },
     "execution_count": 23,
     "metadata": {},
     "output_type": "execute_result"
    }
   ],
   "source": [
    "1e2 # 1*100"
   ]
  },
  {
   "cell_type": "code",
   "execution_count": 24,
   "id": "2b23e088-f72c-4cc9-a849-abd0ccf87bbb",
   "metadata": {},
   "outputs": [
    {
     "data": {
      "text/plain": [
       "1000.0"
      ]
     },
     "execution_count": 24,
     "metadata": {},
     "output_type": "execute_result"
    }
   ],
   "source": [
    "1e3 # 1*1000"
   ]
  },
  {
   "cell_type": "code",
   "execution_count": 25,
   "id": "3fd51ee6-df21-4f49-9b5d-ddd06b0d53a9",
   "metadata": {},
   "outputs": [
    {
     "data": {
      "text/plain": [
       "20000.0"
      ]
     },
     "execution_count": 25,
     "metadata": {},
     "output_type": "execute_result"
    }
   ],
   "source": [
    "2e4 # 2*10000"
   ]
  },
  {
   "cell_type": "code",
   "execution_count": 26,
   "id": "6f1a03c3-80ce-43e3-b9c4-b98397357f27",
   "metadata": {},
   "outputs": [
    {
     "data": {
      "text/plain": [
       "40000.0"
      ]
     },
     "execution_count": 26,
     "metadata": {},
     "output_type": "execute_result"
    }
   ],
   "source": [
    "1e1 #1*10=10\n",
    "1e2 #1*100=100\n",
    "2e3 #2*1000=2000\n",
    "4e4 #4*10000=40000"
   ]
  },
  {
   "cell_type": "code",
   "execution_count": 27,
   "id": "1d4c2416-17a0-4e9c-a580-459666f6be22",
   "metadata": {},
   "outputs": [
    {
     "name": "stdout",
     "output_type": "stream",
     "text": [
      "11.0\n",
      "102.0\n",
      "2003.0\n",
      "40004.0\n"
     ]
    }
   ],
   "source": [
    "print(1e1+1) #1*10=10+1\n",
    "print(1e2+2) #1*100=100+2\n",
    "print(2e3+3) #2*1000=2000+3\n",
    "print(4e4+4) #4*10000=40000+4"
   ]
  },
  {
   "cell_type": "code",
   "execution_count": 28,
   "id": "a61683a1-c185-408d-8e21-32a77f8e3bd6",
   "metadata": {},
   "outputs": [
    {
     "name": "stdout",
     "output_type": "stream",
     "text": [
      "0.1\n",
      "0.01\n",
      "0.002\n",
      "0.0004\n"
     ]
    }
   ],
   "source": [
    "print(1e-1) #1/10=0.1\n",
    "print(1e-2) #1/100=0.01\n",
    "print(2e-3) #2/1000=0.002\n",
    "print(4e-4) #4/10000=0.0004"
   ]
  },
  {
   "cell_type": "markdown",
   "id": "aac6507f-c094-4782-9f4b-cb20937a32b0",
   "metadata": {},
   "source": [
    "## BOOLEAN DATA TYPE:"
   ]
  },
  {
   "cell_type": "code",
   "execution_count": 2,
   "id": "54727d0e-124e-4e9a-9047-52cebe34f5c6",
   "metadata": {},
   "outputs": [
    {
     "data": {
      "text/plain": [
       "True"
      ]
     },
     "execution_count": 2,
     "metadata": {},
     "output_type": "execute_result"
    }
   ],
   "source": [
    "val=True\n",
    "val"
   ]
  },
  {
   "cell_type": "code",
   "execution_count": 4,
   "id": "38749906-2a00-4d42-ab76-8cd8cfc524b1",
   "metadata": {},
   "outputs": [
    {
     "data": {
      "text/plain": [
       "bool"
      ]
     },
     "execution_count": 4,
     "metadata": {},
     "output_type": "execute_result"
    }
   ],
   "source": [
    "type(val)"
   ]
  },
  {
   "cell_type": "code",
   "execution_count": 6,
   "id": "399e12bc-3252-40e6-9263-91f962513461",
   "metadata": {},
   "outputs": [
    {
     "data": {
      "text/plain": [
       "False"
      ]
     },
     "execution_count": 6,
     "metadata": {},
     "output_type": "execute_result"
    }
   ],
   "source": [
    "val1=False\n",
    "val1"
   ]
  },
  {
   "cell_type": "code",
   "execution_count": 7,
   "id": "2c811f50-50d2-4ad3-bd25-e184e6069bb4",
   "metadata": {},
   "outputs": [
    {
     "data": {
      "text/plain": [
       "bool"
      ]
     },
     "execution_count": 7,
     "metadata": {},
     "output_type": "execute_result"
    }
   ],
   "source": [
    "val1=False\n",
    "type(val1)"
   ]
  },
  {
   "cell_type": "markdown",
   "id": "0659adba-7394-4599-965f-91248f6ee550",
   "metadata": {},
   "source": [
    "## STRINGS"
   ]
  },
  {
   "cell_type": "markdown",
   "id": "545ced9c-51a7-460f-960c-1bd9e6db1ba6",
   "metadata": {},
   "source": [
    "- English format representation\n",
    "- Strings represent with quotes\n",
    "- we can use single quotes, double quotes also triple quotes\n",
    "- strings are in red color  "
   ]
  },
  {
   "cell_type": "code",
   "execution_count": 10,
   "id": "69df085a-9fc0-4e83-b756-1e958c943244",
   "metadata": {},
   "outputs": [
    {
     "data": {
      "text/plain": [
       "'python'"
      ]
     },
     "execution_count": 10,
     "metadata": {},
     "output_type": "execute_result"
    }
   ],
   "source": [
    "name='python'\n",
    "name"
   ]
  },
  {
   "cell_type": "code",
   "execution_count": 11,
   "id": "9cfefeb6-8a8e-4f76-bd0c-8f0a97dcfa3d",
   "metadata": {},
   "outputs": [
    {
     "data": {
      "text/plain": [
       "str"
      ]
     },
     "execution_count": 11,
     "metadata": {},
     "output_type": "execute_result"
    }
   ],
   "source": [
    "type(name)"
   ]
  },
  {
   "cell_type": "code",
   "execution_count": 12,
   "id": "10f9d541-7b1e-42a8-ba3b-c769b669e4fc",
   "metadata": {},
   "outputs": [
    {
     "name": "stdout",
     "output_type": "stream",
     "text": [
      "python\n"
     ]
    }
   ],
   "source": [
    "print(name)\n",
    "# when we print we will not able to see the quotes"
   ]
  },
  {
   "cell_type": "code",
   "execution_count": 13,
   "id": "46e58d2f-b0c4-4fec-a11d-22f60c44ecfc",
   "metadata": {},
   "outputs": [
    {
     "data": {
      "text/plain": [
       "str"
      ]
     },
     "execution_count": 13,
     "metadata": {},
     "output_type": "execute_result"
    }
   ],
   "source": [
    "val='10'\n",
    "type(val)"
   ]
  },
  {
   "cell_type": "code",
   "execution_count": 14,
   "id": "a25e73e1-58ae-4275-911d-7f1d3ba62817",
   "metadata": {},
   "outputs": [
    {
     "data": {
      "text/plain": [
       "int"
      ]
     },
     "execution_count": 14,
     "metadata": {},
     "output_type": "execute_result"
    }
   ],
   "source": [
    "val1=10\n",
    "type(val1)"
   ]
  },
  {
   "cell_type": "code",
   "execution_count": 15,
   "id": "866025ce-d614-4daf-97a5-5dd8c7b38812",
   "metadata": {},
   "outputs": [
    {
     "data": {
      "text/plain": [
       "'SRAVYA'"
      ]
     },
     "execution_count": 15,
     "metadata": {},
     "output_type": "execute_result"
    }
   ],
   "source": [
    "name=\"SRAVYA\"\n",
    "name\n",
    "#double quotes but the output displayed as single quotes"
   ]
  },
  {
   "cell_type": "code",
   "execution_count": 16,
   "id": "e7e9682f-4497-48e8-a265-bf4a6fb27b80",
   "metadata": {},
   "outputs": [
    {
     "name": "stdout",
     "output_type": "stream",
     "text": [
      "SRAVYA\n"
     ]
    }
   ],
   "source": [
    "print(name)"
   ]
  },
  {
   "cell_type": "code",
   "execution_count": 21,
   "id": "45333705-2a97-4a87-a427-94f8dbf2fdb0",
   "metadata": {},
   "outputs": [
    {
     "name": "stdout",
     "output_type": "stream",
     "text": [
      "i love 'python'\n"
     ]
    }
   ],
   "source": [
    "str1=\"i love 'python'\"\n",
    "print(str1)"
   ]
  },
  {
   "cell_type": "code",
   "execution_count": 22,
   "id": "e1c42416-7065-4efb-b769-4380c686ef38",
   "metadata": {},
   "outputs": [
    {
     "name": "stdout",
     "output_type": "stream",
     "text": [
      "i love \"python\"\n"
     ]
    }
   ],
   "source": [
    "str1='i love \"python\"'\n",
    "print(str1)"
   ]
  },
  {
   "cell_type": "markdown",
   "id": "a5df1c9c-310b-4b8a-9ee4-d33d5bf7aa32",
   "metadata": {},
   "source": [
    "- keep entire string in double quote and hightlight the word in single code viceversa"
   ]
  },
  {
   "cell_type": "markdown",
   "id": "5c1040ea-aa39-4b89-b085-8d9f7a5b6c0d",
   "metadata": {},
   "source": [
    "**Triple quotes**\n",
    "- triple quotes can not use in coding part\n",
    "- triple quotes means conveying the information\n",
    "- This process is called as **DOC STRING**\n",
    "- In juypter notebook we have markdown option\n",
    "- But in vscode or pycharm there is no markdown option\n",
    "- so user will convey the information by providing tripe quotes "
   ]
  },
  {
   "cell_type": "code",
   "execution_count": 25,
   "id": "ba2e19b8-d1da-4f3b-ba74-633aeb724d31",
   "metadata": {},
   "outputs": [
    {
     "data": {
      "text/plain": [
       "'hai\\ntoday iam learning python code'"
      ]
     },
     "execution_count": 25,
     "metadata": {},
     "output_type": "execute_result"
    }
   ],
   "source": [
    "\"\"\"hai\n",
    "today iam learning python code\"\"\""
   ]
  },
  {
   "cell_type": "code",
   "execution_count": null,
   "id": "5efa1624-aef3-4505-954e-1942c5df6ff2",
   "metadata": {},
   "outputs": [],
   "source": [
    "true=True #works\n",
    "true='True' #works\n",
    "true=10.5 #works\n",
    "True=10 #fail\n",
    "True=True #fail"
   ]
  },
  {
   "cell_type": "code",
   "execution_count": 6,
   "id": "92cf5fcb-68ca-4678-9fe0-9ba73fddbc2b",
   "metadata": {},
   "outputs": [
    {
     "ename": "SyntaxError",
     "evalue": "cannot assign to True (1211211178.py, line 1)",
     "output_type": "error",
     "traceback": [
      "\u001b[1;36m  Cell \u001b[1;32mIn[6], line 1\u001b[1;36m\u001b[0m\n\u001b[1;33m    True=10\u001b[0m\n\u001b[1;37m    ^\u001b[0m\n\u001b[1;31mSyntaxError\u001b[0m\u001b[1;31m:\u001b[0m cannot assign to True\n"
     ]
    }
   ],
   "source": [
    "True=10 "
   ]
  },
  {
   "cell_type": "code",
   "execution_count": 7,
   "id": "2045eef1-4123-492a-988e-f7134b149399",
   "metadata": {},
   "outputs": [
    {
     "ename": "SyntaxError",
     "evalue": "cannot assign to True (2826156406.py, line 1)",
     "output_type": "error",
     "traceback": [
      "\u001b[1;36m  Cell \u001b[1;32mIn[7], line 1\u001b[1;36m\u001b[0m\n\u001b[1;33m    True=True\u001b[0m\n\u001b[1;37m    ^\u001b[0m\n\u001b[1;31mSyntaxError\u001b[0m\u001b[1;31m:\u001b[0m cannot assign to True\n"
     ]
    }
   ],
   "source": [
    "True=True"
   ]
  },
  {
   "cell_type": "code",
   "execution_count": null,
   "id": "0907e193-570d-4c7a-a2de-e2a3165459d1",
   "metadata": {},
   "outputs": [],
   "source": []
  }
 ],
 "metadata": {
  "kernelspec": {
   "display_name": "Python 3 (ipykernel)",
   "language": "python",
   "name": "python3"
  },
  "language_info": {
   "codemirror_mode": {
    "name": "ipython",
    "version": 3
   },
   "file_extension": ".py",
   "mimetype": "text/x-python",
   "name": "python",
   "nbconvert_exporter": "python",
   "pygments_lexer": "ipython3",
   "version": "3.12.7"
  }
 },
 "nbformat": 4,
 "nbformat_minor": 5
}

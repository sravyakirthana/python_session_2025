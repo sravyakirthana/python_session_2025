{
 "cells": [
  {
   "cell_type": "markdown",
   "id": "a5203040-35d9-4460-b7ad-f60bd267e9cf",
   "metadata": {},
   "source": [
    "**conditional statements:**\n",
    "- conditional statements are used to execute the code based on some condition \n",
    "- assume a statement \n",
    " - if rain comes i will stay at hostel \n",
    " - if rain comes i will stay at hostel otherwise i will go to play cricket \n",
    " - if rains comes i will stay at hostel otherwise i will go to ground but if omkar sir calls i will go to NareshIT\n",
    "- instead of 'otherwise' use **else**\n",
    "- statement 1: if rain comes i will stay at hostel otherwise i will go to play cricket \n",
    "- statement 2: if rain comes i will stay at hostel else i will go to play cricket \n",
    "** 3 CASES:**\n",
    "- if\n",
    "- if-else\n",
    "- if-elif-else    "
   ]
  },
  {
   "cell_type": "markdown",
   "id": "1fa54578-3402-4ede-ac22-123e3d827a95",
   "metadata": {},
   "source": [
    "**CASE1:** **if**\n",
    "**SYNTAX** \n",
    "- if <condition>:\n",
    "    **write your code here**\n",
    "- whenever the condition is true \n",
    "- then python will go inside the if area then lines will be execute "
   ]
  },
  {
   "cell_type": "code",
   "execution_count": 1,
   "id": "adde49fb-d4f5-4e19-998e-9f0c154c24e7",
   "metadata": {},
   "outputs": [
    {
     "data": {
      "text/plain": [
       "False"
      ]
     },
     "execution_count": 1,
     "metadata": {},
     "output_type": "execute_result"
    }
   ],
   "source": [
    "num=10 #assignment 10 is a value stored in a variable name (= assignment , == condition)\n",
    "num==100 # condition check num value equal to 10 or not "
   ]
  },
  {
   "cell_type": "code",
   "execution_count": 6,
   "id": "054ea743-c78a-4223-a8a2-b800648feba5",
   "metadata": {},
   "outputs": [
    {
     "name": "stdout",
     "output_type": "stream",
     "text": [
      "False\n",
      "True\n",
      "False\n",
      "False\n",
      "True\n",
      "True\n"
     ]
    }
   ],
   "source": [
    "num=10\n",
    "print(num==100)\n",
    "print(num==10)\n",
    "print(num>10)\n",
    "print(num<10)\n",
    "print(num>=10)\n",
    "print(num<=10)"
   ]
  },
  {
   "cell_type": "code",
   "execution_count": 7,
   "id": "175bef2d-8bda-4a3b-9134-7e66ed73cfe8",
   "metadata": {},
   "outputs": [
    {
     "name": "stdout",
     "output_type": "stream",
     "text": [
      "hello\n"
     ]
    }
   ],
   "source": [
    "if 100>10:\n",
    "    print(\"hello\")\n",
    "\n",
    "# step1: 100>10 true\n",
    "# step2: hello "
   ]
  },
  {
   "cell_type": "code",
   "execution_count": 10,
   "id": "ed7f3f5b-5170-4b34-bbef-6d952efb07ae",
   "metadata": {},
   "outputs": [],
   "source": [
    "if 100<10:\n",
    "    print(\"hello\")\n",
    "#step 1 : 100<10 condition false (no answer no error)    "
   ]
  },
  {
   "cell_type": "markdown",
   "id": "962ca5bf-bc77-4046-938f-cac5d51307bb",
   "metadata": {},
   "source": [
    "**mistake-1**\n",
    "\n",
    "**indentation error**\n",
    "\n",
    "- whenver a line startws with keyword at last : will be there\n",
    "\n",
    "- whenever : there then we have indenatation "
   ]
  },
  {
   "cell_type": "code",
   "execution_count": 11,
   "id": "3e43cc06-4721-438b-93bd-0fd55d97938f",
   "metadata": {},
   "outputs": [
    {
     "data": {
      "text/plain": [
       "True"
      ]
     },
     "execution_count": 11,
     "metadata": {},
     "output_type": "execute_result"
    }
   ],
   "source": [
    "100>10"
   ]
  },
  {
   "cell_type": "code",
   "execution_count": 12,
   "id": "551d8aa4-a3c4-4d35-8cd1-0a368bf72eb8",
   "metadata": {},
   "outputs": [
    {
     "name": "stdout",
     "output_type": "stream",
     "text": [
      "hello\n"
     ]
    }
   ],
   "source": [
    "if True:\n",
    "    print(\"hello\")   "
   ]
  },
  {
   "cell_type": "code",
   "execution_count": 13,
   "id": "598fb21f-1e37-4a66-a7f7-ca47d31132cf",
   "metadata": {},
   "outputs": [],
   "source": [
    "if False:\n",
    "    print(\"hello\")   "
   ]
  },
  {
   "cell_type": "code",
   "execution_count": 15,
   "id": "df1859fc-e14e-4f3f-a45b-1d785831730d",
   "metadata": {},
   "outputs": [
    {
     "name": "stdout",
     "output_type": "stream",
     "text": [
      "hello\n",
      "hello\n",
      "hello\n"
     ]
    }
   ],
   "source": [
    "if bool(100):\n",
    "    print('hello')\n",
    "\n",
    "if 100>10:\n",
    "    print(\"hello\")\n",
    "\n",
    "if True:\n",
    "    print(\"hello\") "
   ]
  },
  {
   "cell_type": "code",
   "execution_count": 20,
   "id": "f4294b22-a4df-4b88-abe2-d8af24ad4621",
   "metadata": {},
   "outputs": [
    {
     "name": "stdout",
     "output_type": "stream",
     "text": [
      "hello\n",
      "hai\n",
      "im with condition bye\n",
      "im without condition bye\n"
     ]
    }
   ],
   "source": [
    "#####################\n",
    "if 100>10:\n",
    "    print(\"hello\")\n",
    "    print('hai')\n",
    "    print('im with condition bye')\n",
    "###########################    \n",
    "print('im without condition bye')"
   ]
  },
  {
   "cell_type": "code",
   "execution_count": 21,
   "id": "c6201395-0b94-430e-a879-1038520b6eae",
   "metadata": {},
   "outputs": [
    {
     "name": "stdout",
     "output_type": "stream",
     "text": [
      "im without condition bye\n"
     ]
    }
   ],
   "source": [
    "if 100<10:\n",
    "    print(\"hello\")\n",
    "    print('hai')\n",
    "    print('im with condition bye')\n",
    "###########################    \n",
    "print('im without condition bye')"
   ]
  },
  {
   "cell_type": "code",
   "execution_count": 22,
   "id": "5f94c213-0913-4aac-9812-17e6a5cb0e79",
   "metadata": {},
   "outputs": [
    {
     "name": "stdout",
     "output_type": "stream",
     "text": [
      "1\n",
      "2\n",
      "im without condition bye\n"
     ]
    }
   ],
   "source": [
    "print(1)\n",
    "print(2)\n",
    "if 100<10:\n",
    "    print(\"hello\")\n",
    "    print('hai')\n",
    "    print('im with condition bye')\n",
    "###########################    \n",
    "print('im without condition bye')"
   ]
  },
  {
   "cell_type": "code",
   "execution_count": 26,
   "id": "3a465bb5-7604-4c01-9a7b-775b3ae23641",
   "metadata": {},
   "outputs": [
    {
     "name": "stdout",
     "output_type": "stream",
     "text": [
      "1\n",
      "2\n",
      "im without condition bye\n"
     ]
    }
   ],
   "source": [
    "if 100>10:\n",
    "    print(1)\n",
    "    print(2)\n",
    "if 100<10:\n",
    "    print(\"hello\")\n",
    "    print('hai')\n",
    "    print('im with condition bye')\n",
    "###########################    \n",
    "print('im without condition bye')"
   ]
  },
  {
   "cell_type": "markdown",
   "id": "4939c4f1-2fae-4586-884b-3b3d0127e0c7",
   "metadata": {},
   "source": [
    "**case2: if-else:**"
   ]
  },
  {
   "cell_type": "markdown",
   "id": "312d656b-4069-4753-8234-274b084a4da9",
   "metadata": {},
   "source": [
    "- if condition is True then if statements will execute\n",
    "- if condition is False then else statements will execute\n",
    "- one condition two outputs\n",
    "- if needs condition but not else "
   ]
  },
  {
   "cell_type": "markdown",
   "id": "474baeac-3c1d-468c-84de-3384d17a8df6",
   "metadata": {},
   "source": [
    "# syntax\n",
    "if <condition>:\n",
    "    <write your code here>\n",
    "else:\n",
    "    <write your code here>"
   ]
  },
  {
   "cell_type": "code",
   "execution_count": 4,
   "id": "d78c9f6f-8c89-4056-b495-d68d4a9c9a9c",
   "metadata": {},
   "outputs": [
    {
     "name": "stdout",
     "output_type": "stream",
     "text": [
      "hello\n"
     ]
    }
   ],
   "source": [
    "print('hello')"
   ]
  },
  {
   "cell_type": "code",
   "execution_count": 5,
   "id": "a9bd30e1-f915-4316-bae8-5dcf1c4c793f",
   "metadata": {},
   "outputs": [
    {
     "name": "stdout",
     "output_type": "stream",
     "text": [
      "hello\n"
     ]
    }
   ],
   "source": [
    "friend='yes'\n",
    "if friend=='yes':  # if 'yes' == 'yes'\n",
    "    print('hello')"
   ]
  },
  {
   "cell_type": "code",
   "execution_count": 6,
   "id": "50071d81-f677-41fc-9bca-d86323999d6f",
   "metadata": {},
   "outputs": [
    {
     "name": "stdout",
     "output_type": "stream",
     "text": [
      "30\n"
     ]
    }
   ],
   "source": [
    "a=10\n",
    "b=20\n",
    "c=a+b\n",
    "print(c)"
   ]
  },
  {
   "cell_type": "code",
   "execution_count": 47,
   "id": "458d1580-eb41-4bd5-ba26-a920db2fda6a",
   "metadata": {},
   "outputs": [
    {
     "name": "stdout",
     "output_type": "stream",
     "text": [
      "30\n"
     ]
    }
   ],
   "source": [
    "if 100>10:\n",
    "    a=10\n",
    "    b=20\n",
    "    c=a+b\n",
    "    print(c)"
   ]
  },
  {
   "cell_type": "code",
   "execution_count": 7,
   "id": "fca49530-f383-425f-8665-48cff47aca19",
   "metadata": {},
   "outputs": [
    {
     "name": "stdout",
     "output_type": "stream",
     "text": [
      "positive number\n"
     ]
    }
   ],
   "source": [
    "if 100>0:\n",
    "    print('positive number')\n",
    "else:\n",
    "    print('negative number')"
   ]
  },
  {
   "cell_type": "code",
   "execution_count": 9,
   "id": "7d864873-a0b9-4507-a5a4-441a6c7b43cd",
   "metadata": {},
   "outputs": [
    {
     "name": "stdout",
     "output_type": "stream",
     "text": [
      "positive number\n"
     ]
    }
   ],
   "source": [
    "n=100\n",
    "if n>0:\n",
    "    print('positive number')\n",
    "else:\n",
    "    print('negative number')"
   ]
  },
  {
   "cell_type": "code",
   "execution_count": 12,
   "id": "f7647a23-e01a-4f8d-b274-b74f3a1c832b",
   "metadata": {},
   "outputs": [
    {
     "name": "stdin",
     "output_type": "stream",
     "text": [
      "enter the number: -100\n"
     ]
    },
    {
     "name": "stdout",
     "output_type": "stream",
     "text": [
      "negative number\n"
     ]
    }
   ],
   "source": [
    "n=eval(input('enter the number:'))\n",
    "if n>0:\n",
    "    print('positive number')\n",
    "else:\n",
    "    print('negative number')\n",
    "\n",
    "#n=-100\n",
    "# if -100>0 is false\n",
    "# else negative "
   ]
  },
  {
   "cell_type": "code",
   "execution_count": 71,
   "id": "3d1fa674-ef1a-44ff-9015-d998e3df3b22",
   "metadata": {},
   "outputs": [
    {
     "name": "stdout",
     "output_type": "stream",
     "text": [
      "99 is a positive number\n"
     ]
    }
   ],
   "source": [
    "import random \n",
    "n=random.randint(-100,100)\n",
    "if n>0:\n",
    "    print(f\"{n} is a positive number\")\n",
    "else:\n",
    "     print(f\"{n} is a negative number\")"
   ]
  },
  {
   "cell_type": "code",
   "execution_count": 70,
   "id": "9dced9e7-a540-47db-824d-57f3ed7f8c46",
   "metadata": {},
   "outputs": [
    {
     "name": "stdout",
     "output_type": "stream",
     "text": [
      "positive number\n",
      "positive number\n"
     ]
    },
    {
     "name": "stdin",
     "output_type": "stream",
     "text": [
      "enter the number: 18\n"
     ]
    },
    {
     "name": "stdout",
     "output_type": "stream",
     "text": [
      "positive number\n",
      "-14 is a negative number\n"
     ]
    }
   ],
   "source": [
    "\n",
    "#################\n",
    "if 100>0:\n",
    "    print('positive number')\n",
    "else:\n",
    "    print('negative number')\n",
    "####################################\n",
    "n=100\n",
    "if n>0:\n",
    "    print('positive number')\n",
    "else:\n",
    "    print('negative number')\n",
    "#################################### \n",
    "n=eval(input('enter the number:'))\n",
    "if n>0:\n",
    "    print('positive number')\n",
    "else:\n",
    "    print('negative number')\n",
    "####################################    \n",
    "import random \n",
    "n=random.randint(-100,100)\n",
    "if n>0:\n",
    "    print(f\"{n} is a positive number\")\n",
    "else:\n",
    "     print(f\"{n} is a negative number\")    "
   ]
  },
  {
   "cell_type": "code",
   "execution_count": 16,
   "id": "c4248a64-9f51-4ed1-b5d6-07cdba599266",
   "metadata": {},
   "outputs": [
    {
     "name": "stdout",
     "output_type": "stream",
     "text": [
      "hello\n",
      "positive number\n",
      "condition is False\n"
     ]
    }
   ],
   "source": [
    "print('hello')\n",
    "if 100>0:\n",
    "    print('positive number')\n",
    "    print('condition is False')\n",
    "else:\n",
    "    print('negative number')\n",
    "    print('condition is false')"
   ]
  },
  {
   "cell_type": "code",
   "execution_count": 17,
   "id": "dccbdacc-807f-47f2-8222-bd4c76374bed",
   "metadata": {},
   "outputs": [
    {
     "name": "stdout",
     "output_type": "stream",
     "text": [
      "hello\n",
      "negative number\n",
      "condition is false\n"
     ]
    }
   ],
   "source": [
    "print('hello')\n",
    "if 100<0:\n",
    "    print('positive number')\n",
    "    print('condition is False')\n",
    "else:\n",
    "    print('negative number')\n",
    "    print('condition is false')\n",
    "\n",
    "# hello\n",
    "# if 100<0  F stop\n",
    "# else\n",
    "#    neg F"
   ]
  },
  {
   "cell_type": "code",
   "execution_count": 19,
   "id": "d7578b55-fc14-41e4-81dd-53cee8770385",
   "metadata": {},
   "outputs": [
    {
     "name": "stdout",
     "output_type": "stream",
     "text": [
      "hello\n",
      "negative number\n",
      "condition is false\n",
      "bye\n"
     ]
    }
   ],
   "source": [
    "print('hello')\n",
    "if 100<0:\n",
    "    print('positive number')\n",
    "    print('condition is False')\n",
    "else:\n",
    "    print('negative number')\n",
    "    print('condition is false')\n",
    "print('bye')"
   ]
  },
  {
   "cell_type": "code",
   "execution_count": 18,
   "id": "5a7b3d1f-053a-4ebf-b7ab-546f30173afe",
   "metadata": {},
   "outputs": [
    {
     "ename": "SyntaxError",
     "evalue": "invalid syntax (2637079084.py, line 6)",
     "output_type": "error",
     "traceback": [
      "\u001b[1;36m  Cell \u001b[1;32mIn[18], line 6\u001b[1;36m\u001b[0m\n\u001b[1;33m    else:\u001b[0m\n\u001b[1;37m    ^\u001b[0m\n\u001b[1;31mSyntaxError\u001b[0m\u001b[1;31m:\u001b[0m invalid syntax\n"
     ]
    }
   ],
   "source": [
    "print('hello')\n",
    "if 100<0:\n",
    "    print('positive number')\n",
    "    print('condition is False')\n",
    "print('why you are in middle')    \n",
    "else:\n",
    "    print('negative number')\n",
    "    print('condition is false')\n",
    "\n",
    "# if-else should come together "
   ]
  },
  {
   "cell_type": "code",
   "execution_count": 51,
   "id": "7131848c-fc21-4ece-99b9-913ad307587f",
   "metadata": {},
   "outputs": [
    {
     "name": "stdin",
     "output_type": "stream",
     "text": [
      "enter the number1 100\n",
      "enter the number2: 1000\n"
     ]
    },
    {
     "name": "stdout",
     "output_type": "stream",
     "text": [
      "1000 is a greatest number\n"
     ]
    }
   ],
   "source": [
    "#Q1)\n",
    "# wap ask the user enter two numbers\n",
    "#find the greatest number \n",
    "\n",
    "#idea\n",
    "#n1= eval(input())\n",
    "#n2= eval(input())\n",
    "#if <cond>:\n",
    "#         print()\n",
    "#else:\n",
    "#   print()\n",
    "\n",
    "n1=eval(input('enter the number1'))\n",
    "n2=eval(input('enter the number2:'))\n",
    "if n1>n2:\n",
    "    print(f\"{n1} is a greatest number\")\n",
    "else:\n",
    "    print(f\"{n2} is a greatest number\")"
   ]
  },
  {
   "cell_type": "code",
   "execution_count": 23,
   "id": "66907726-6d61-4994-9ea7-2807b1344ee1",
   "metadata": {},
   "outputs": [
    {
     "name": "stdout",
     "output_type": "stream",
     "text": [
      "n2:79 is a greatest number\n"
     ]
    }
   ],
   "source": [
    "import random \n",
    "n1=random.randint(1,100)\n",
    "n2=random.randint(1,100)\n",
    "if n1>n2:\n",
    "    print(f\"n1:{n1} is a greatest number\")\n",
    "else:\n",
    "    print(f\"n2:{n2} is a greatest number\")"
   ]
  },
  {
   "cell_type": "code",
   "execution_count": 1,
   "id": "8d4a0f90-24be-4a1c-aeee-051440d7bbb0",
   "metadata": {},
   "outputs": [
    {
     "name": "stdin",
     "output_type": "stream",
     "text": [
      "enter the distance 25\n"
     ]
    },
    {
     "name": "stdout",
     "output_type": "stream",
     "text": [
      "free ride\n"
     ]
    }
   ],
   "source": [
    "#Q2)\n",
    "# wap ask the user enter distance\n",
    "# if distance greater than 25km \n",
    "#then ask the charge per km \n",
    "# then calculate total charge \n",
    "#otherwise free ride \n",
    "\n",
    "# step-1: enter the distance\n",
    "# step-2: if distance>25\n",
    "# step-3:    ask the charge per km\n",
    "# step-4:    calculate the total charge\n",
    "# step-5: else\n",
    "# step-6:    free ride\n",
    "\n",
    "d=eval(input(\"enter the distance\"))\n",
    "if d>25:\n",
    "    charge=eval(input(\"enter the charge per km\"))\n",
    "    total_charge=d*charge \n",
    "    print(f'total charge is: {total_charge} INR')   \n",
    "else:\n",
    "    print('free ride') "
   ]
  },
  {
   "cell_type": "code",
   "execution_count": 2,
   "id": "891dfbcc-1b79-4605-8439-f6fb6892fc28",
   "metadata": {},
   "outputs": [
    {
     "name": "stdin",
     "output_type": "stream",
     "text": [
      "enter the distance in km: 50\n",
      "enter the free_distance: 120\n"
     ]
    },
    {
     "name": "stdout",
     "output_type": "stream",
     "text": [
      "free ride\n"
     ]
    }
   ],
   "source": [
    "#Q3)\n",
    "# wap ask the user enter distance : 50kms\n",
    "#   enter the free_distance (assume that 25km)\n",
    "# if distance greater than 25km\n",
    "   #then ask the charge per km:10rs\n",
    "   #distance _covered=distance- free_distance : 50-25=25km\n",
    "   #then calculate total charge \n",
    "#otherwise free ride \n",
    "\n",
    "# step-1: enter the distance\n",
    "# step-2: enter the free_distance\n",
    "# step-3: if distance>free_distance\n",
    "# step-4:    ask the charge per km\n",
    "# step-5:    actual_distance= distance-free_distance\n",
    "# step-5:    calculate the total charge on actual distance\n",
    "# step-6: else\n",
    "# step-7:    free ride\n",
    "\n",
    "travel_distance=eval(input(\"enter the distance in km:\"))\n",
    "free_distance=eval(input(\"enter the free_distance:\"))\n",
    "if travel_distance>free_distance:\n",
    "    actual_distance=travel_distance-free_distance\n",
    "    print(f\"the actual distance covered is :{actual_distance}km\")\n",
    "    charge=eval(input(\"enter the charge per km\"))\n",
    "    total_charge=actual_distance*charge \n",
    "    print(f'total charge is: {total_charge} INR')   \n",
    "else:\n",
    "    print('free ride') "
   ]
  },
  {
   "cell_type": "code",
   "execution_count": 54,
   "id": "13b24919-7a22-4dc1-aecf-74f65724d469",
   "metadata": {},
   "outputs": [
    {
     "name": "stdin",
     "output_type": "stream",
     "text": [
      "enter the distance in km: 200\n",
      "enter the charge per km: 50\n"
     ]
    },
    {
     "name": "stdout",
     "output_type": "stream",
     "text": [
      "The total charge is:10000 INR\n"
     ]
    }
   ],
   "source": [
    "distance=eval(input('enter the distance in km:'))\n",
    "if distance<25:\n",
    "    print('free ride')\n",
    "\n",
    "else:\n",
    "    charge=eval(input('enter the charge per km:'))\n",
    "    total_charge=distance*charge\n",
    "    print(f\"The total charge is:{total_charge} INR\")"
   ]
  },
  {
   "cell_type": "code",
   "execution_count": 3,
   "id": "6fb2b940-1b8e-40a0-aa5e-b65d20562eb4",
   "metadata": {},
   "outputs": [
    {
     "name": "stdout",
     "output_type": "stream",
     "text": [
      "9\n"
     ]
    },
    {
     "name": "stdin",
     "output_type": "stream",
     "text": [
      "enter the number between 1 to 10: 18\n"
     ]
    },
    {
     "name": "stdout",
     "output_type": "stream",
     "text": [
      "Lucky Lucky: you lost better luck next time\n"
     ]
    }
   ],
   "source": [
    "#Q4) \n",
    "# wap ask the user enter a number from keyboard n1\n",
    "# ask the user get a random number between 1,10  n2\n",
    "# if n1 equal to n2 print you won\n",
    "# otherwise print you lost\n",
    "\n",
    "# step-1:  n1=eval(input)\n",
    "# step-2: n2=random.randint\n",
    "# step-3: if n1==n2\n",
    "# step-4:    print lucky won\n",
    "# step-5: else:\n",
    "# step-6:   print double lucky lost\n",
    "\n",
    "import random\n",
    "n1=random.randint(1,10)\n",
    "print(n1)\n",
    "n2=eval(input('enter the number between 1 to 10:'))\n",
    "if n1==n2:\n",
    "    print('Lucky: you won')\n",
    "else:\n",
    "    print('Lucky Lucky: you lost better luck next time')"
   ]
  },
  {
   "cell_type": "code",
   "execution_count": 61,
   "id": "94cfdf78-4f38-41db-b3c0-3864b1d5948a",
   "metadata": {},
   "outputs": [
    {
     "name": "stdin",
     "output_type": "stream",
     "text": [
      "enter the course name Data science\n",
      "enter the institute name Naresh IT\n"
     ]
    },
    {
     "name": "stdout",
     "output_type": "stream",
     "text": [
      "you are in safe hands!\n"
     ]
    }
   ],
   "source": [
    "# Q5)\n",
    "# Course name= Data science\n",
    "# Insti name = Naresh It\n",
    "\n",
    "# Ask the user enter course_name\n",
    "#         user enter inst_name\n",
    "# if course_name equal to data_science and inst_name naresh_it\n",
    "# then print you are at safe place\n",
    "# otherwise\n",
    "# print katam zindagi\n",
    "\n",
    "# step-1: course_name=input()\n",
    "# step-2: inst_name=input()\n",
    "# step-3: if course_name=='data_science' &(and) inst_name=='naresh_it':\n",
    "# step-4:    print('you are at safe place')\n",
    "# step-5: else:\n",
    "# step-6:   print('katam zindagi')\n",
    "\n",
    "course_name=input('enter the course name')\n",
    "inst_name=input('enter the institute name')\n",
    "if course_name=='Data science'and inst_name=='Naresh IT':\n",
    "    print(\"you are in safe hands!\")\n",
    "else:\n",
    "    print(\"katham zindagi\")"
   ]
  },
  {
   "cell_type": "code",
   "execution_count": 62,
   "id": "c27d1bd5-eb8a-43a2-a4be-51ff819dfe47",
   "metadata": {},
   "outputs": [
    {
     "name": "stdin",
     "output_type": "stream",
     "text": [
      "Enter the Course Name:  Data Science\n",
      "Enter the Institute Name:  Naresh IT\n"
     ]
    },
    {
     "name": "stdout",
     "output_type": "stream",
     "text": [
      "You are in Safe Hands!\n"
     ]
    }
   ],
   "source": [
    "course_name=input(\"Enter the Course Name: \")\n",
    "inst_name=input(\"Enter the Institute Name: \")\n",
    "if course_name=='Data Science' or inst_name=='Naresh IT':\n",
    "  print(\"You are in Safe Hands!\")\n",
    "else:\n",
    "  print(\"Khatam Zindagi\")"
   ]
  },
  {
   "cell_type": "code",
   "execution_count": 64,
   "id": "6762d2c6-f94d-4cd7-8d82-af08fe08133a",
   "metadata": {},
   "outputs": [
    {
     "data": {
      "text/plain": [
       "'data science'"
      ]
     },
     "execution_count": 64,
     "metadata": {},
     "output_type": "execute_result"
    }
   ],
   "source": [
    "'Data Science'.lower()"
   ]
  },
  {
   "cell_type": "code",
   "execution_count": 66,
   "id": "cb1e1108-ed60-47f8-8242-044e20835443",
   "metadata": {},
   "outputs": [
    {
     "name": "stdin",
     "output_type": "stream",
     "text": [
      "enter the number: 18\n"
     ]
    },
    {
     "name": "stdout",
     "output_type": "stream",
     "text": [
      "18 is an even\n"
     ]
    }
   ],
   "source": [
    "# Q6) even-odd \n",
    "# ask the user enter a number\n",
    "# print if it is even number or odd number\n",
    "\n",
    "# idea: if any number divide by 2 then it gives \n",
    "# the reminder equal to zero then it is even number\n",
    "\n",
    "num=eval(input(\"enter the number:\"))\n",
    "if num%2==0:\n",
    "         print(f\"{num} is an even\")\n",
    "else:\n",
    "    print(f\"{num} is an odd\")\n"
   ]
  },
  {
   "cell_type": "code",
   "execution_count": null,
   "id": "6b406268-556e-40e2-837e-2531bdf004b8",
   "metadata": {},
   "outputs": [],
   "source": [
    "modulus: %\n",
    "division: /\n",
    "floor division: //"
   ]
  },
  {
   "cell_type": "code",
   "execution_count": 67,
   "id": "e6beb8e2-582f-402e-8c3b-1ce89d04e0b3",
   "metadata": {},
   "outputs": [
    {
     "data": {
      "text/plain": [
       "1"
      ]
     },
     "execution_count": 67,
     "metadata": {},
     "output_type": "execute_result"
    }
   ],
   "source": [
    "11%2  # reminder"
   ]
  },
  {
   "cell_type": "code",
   "execution_count": 68,
   "id": "4634e02f-2a84-4dd7-b629-fb90182c675e",
   "metadata": {},
   "outputs": [
    {
     "data": {
      "text/plain": [
       "5.5"
      ]
     },
     "execution_count": 68,
     "metadata": {},
     "output_type": "execute_result"
    }
   ],
   "source": [
    "11/2 # normal division"
   ]
  },
  {
   "cell_type": "code",
   "execution_count": 69,
   "id": "1e8a01d5-acec-475c-8049-1a47ff06c136",
   "metadata": {},
   "outputs": [
    {
     "data": {
      "text/plain": [
       "5"
      ]
     },
     "execution_count": 69,
     "metadata": {},
     "output_type": "execute_result"
    }
   ],
   "source": [
    "11//2 #integer"
   ]
  },
  {
   "cell_type": "markdown",
   "id": "ae25afee-ec10-463c-bebe-11a2b33c4809",
   "metadata": {},
   "source": [
    "**CASE 3: if-elif-else**"
   ]
  },
  {
   "cell_type": "markdown",
   "id": "a063c889-9223-4923-a708-4f64ceaa4339",
   "metadata": {},
   "source": [
    "- whenever we have mutliple conditions we will do *if-elif-else*\n",
    "- if single condition is then we will go if-else\n",
    "  - two answers\n",
    "  - if needs condition then else doesnt require any condition\n",
    "- if two conditions are there we will go if-elif-else\n",
    "  - three answers\n",
    "  - if and elif need condition else doesnot require any condition\n",
    "- if three conditions are there we will go if-elif-elif-else\n",
    "  - four answers\n",
    "  - if,elif,elif need condition and else doesnot require any condition"
   ]
  },
  {
   "cell_type": "code",
   "execution_count": null,
   "id": "8e168c5d-3a1d-4b69-9f99-7f0573ccc2ad",
   "metadata": {},
   "outputs": [],
   "source": [
    "#syntax:\n",
    "if <condition>:\n",
    "    <write ur code here>\n",
    "elif <condition>:\n",
    "    <write ur code here>\n",
    "elif <condition>:\n",
    "     <write ur code here>\n",
    "else:\n",
    "    <write ur code here>"
   ]
  },
  {
   "cell_type": "code",
   "execution_count": 2,
   "id": "70c8d16d-cbf7-4133-853e-c2c5cc15f069",
   "metadata": {},
   "outputs": [
    {
     "name": "stdin",
     "output_type": "stream",
     "text": [
      "enter a number 1\n"
     ]
    },
    {
     "name": "stdout",
     "output_type": "stream",
     "text": [
      "one\n"
     ]
    }
   ],
   "source": [
    "#Q1)\n",
    "#wap ask the user enter a number \n",
    "#if number equal to one then print one\n",
    "#if number is equal to two then print two \n",
    "#if number equal to three then print three\n",
    "# otherwise print enter a valid number\n",
    "\n",
    "# STEP1: num=eval()\n",
    "# STEP2: if<>:\n",
    "# STEP3:   print\n",
    "# STEP4: elif<>\n",
    "\n",
    "num=eval(input(\"enter a number\"))\n",
    "if num==1:\n",
    "    print('one')\n",
    "elif num==2:\n",
    "    print('two')\n",
    "elif num==3:\n",
    "    print('three')\n",
    "else:\n",
    "    print('enter a valid number')\n",
    "\n",
    "#num==2\n",
    "#if 2==1 f\n",
    "#elif 2==2 T two stop"
   ]
  },
  {
   "cell_type": "code",
   "execution_count": 2,
   "id": "0782f0b9-a177-4b47-bbf4-1f64f138c8af",
   "metadata": {},
   "outputs": [
    {
     "name": "stdin",
     "output_type": "stream",
     "text": [
      "enter the percentage of marks: 48\n"
     ]
    },
    {
     "name": "stdout",
     "output_type": "stream",
     "text": [
      "D grade\n"
     ]
    }
   ],
   "source": [
    "#Q2)\n",
    "# if marks greater than 90 then print A grade\n",
    "# if marks between 70 to 90 then print B grade \n",
    "# if marks between 50 to 90 then print C grade \n",
    "# if marks between 35 to 50 then print D grade \n",
    "# otherwise print Fail \n",
    "\n",
    "per=eval(input(\"enter the percentage of marks:\"))\n",
    "if per>90:\n",
    "    print('A grade')\n",
    "elif per>70 and per<=90:\n",
    "    print('B grade')\n",
    "elif per>50 and per<=70:\n",
    "    print('C grade')\n",
    "elif per>35 and per<=50:\n",
    "    print('D grade')\n",
    "else:\n",
    "    print('Fail')\n",
    "\n",
    "# STEP1: per=75\n",
    "# if 75>90 false\n",
    "# elif 75>=70 true\n",
    "\n",
    "\n",
    "# if marks between 70 to 90 then print B grade\n",
    "# mistake-1:  70 to 90\n",
    "# per>70 and per90\n",
    "\n",
    "# if marks between 70 to 90 then print B grade\n",
    "# marks should be greater than 70\n",
    "#  per>70\n",
    "# marks should be less than 90\n",
    "#  per<90\n",
    "\n",
    "# mistake-2:per>70 and 90\n",
    "\n",
    "# 70 to 90\n",
    "# 70<per<90"
   ]
  },
  {
   "cell_type": "code",
   "execution_count": null,
   "id": "2e14852d-c8ce-459d-b2bb-066a2e9cf83e",
   "metadata": {},
   "outputs": [],
   "source": [
    "# if marks between 70 to 90 then print B grade\n",
    "70<80>90"
   ]
  },
  {
   "cell_type": "code",
   "execution_count": 3,
   "id": "bf3086ca-5184-4e44-9491-2e243f929604",
   "metadata": {},
   "outputs": [
    {
     "name": "stdin",
     "output_type": "stream",
     "text": [
      "enter the percentage of marks: 25\n"
     ]
    },
    {
     "name": "stdout",
     "output_type": "stream",
     "text": [
      "Fail\n"
     ]
    }
   ],
   "source": [
    "per=eval(input(\"enter the percentage of marks:\"))\n",
    "if per>=90:     # False\n",
    "    print('A grade')\n",
    "elif per>=70:   # 65>=70   False\n",
    "    print('B grade')\n",
    "elif per>=50:  # 65>=50  True\n",
    "    print('C grade')\n",
    "elif per>=35: # 65>=35   True\n",
    "    print('D grade')\n",
    "else:\n",
    "    print('Fail')\n"
   ]
  },
  {
   "cell_type": "code",
   "execution_count": 4,
   "id": "93f06b6d-9a36-4828-ae42-de1b079b8827",
   "metadata": {},
   "outputs": [
    {
     "name": "stdin",
     "output_type": "stream",
     "text": [
      "enter the percentage of marks: 99\n"
     ]
    },
    {
     "name": "stdout",
     "output_type": "stream",
     "text": [
      "A grade\n",
      "B grade\n"
     ]
    }
   ],
   "source": [
    "per=eval(input(\"enter the percentage of marks:\"))\n",
    "if per>=90:     # 99>=90   True\n",
    "    print('A grade')\n",
    "if per>=70:   # 99>=70   T\n",
    "    print('B grade')\n",
    "elif per>=50:  # 99>=50  True\n",
    "    print('C grade')\n",
    "elif per>=35: # 99>=35   True\n",
    "    print('D grade')\n",
    "else:\n",
    "    print('Fail')\n",
    "\n",
    "# step-1: per=75\n",
    "# if 75>90 False\n",
    "# elif 75>=70 True"
   ]
  },
  {
   "cell_type": "code",
   "execution_count": null,
   "id": "9fa03bb2-118b-44d3-9600-5d9efa5de878",
   "metadata": {},
   "outputs": [],
   "source": [
    "if -elif\n",
    "\n",
    "if fails ==== elif\n",
    "\n",
    "if-if\n",
    "if fail or pass ===== if"
   ]
  },
  {
   "cell_type": "code",
   "execution_count": 1,
   "id": "060c80e8-e7a1-4be8-84fe-281a5f1c5721",
   "metadata": {},
   "outputs": [
    {
     "name": "stdin",
     "output_type": "stream",
     "text": [
      "enter age of a person 5\n"
     ]
    },
    {
     "name": "stdout",
     "output_type": "stream",
     "text": [
      "kid\n"
     ]
    }
   ],
   "source": [
    "#Q3)\n",
    "# if age greater than 100 years unlucky \n",
    "#if age between 80 to 100 years old guy\n",
    "# if age between 60 to 80 print ss\n",
    "# iF age between 40 to 60 print MA\n",
    "# if age between 20 to 40 print young \n",
    "# if age between 10 to 20 print teenage \n",
    "# otherwise print kid \n",
    "\n",
    "age=eval(input(\"enter age of a person\"))\n",
    "if age>=100:  #  45>=100  F\n",
    "    print(\"unlucky\")\n",
    "elif age>=80:  # 45>=80  F\n",
    "    print(\"old guy\")\n",
    "elif age>=60:  # 45>=60  F\n",
    "    print(\"senior citizen\")\n",
    "elif age>=40:  # 45>=40  T    \n",
    "    print(\"middle age\")\n",
    "elif age>=20:\n",
    "    print(\"young\")\n",
    "elif age>=10:\n",
    "    print(\"teenage\")\n",
    "else:\n",
    "    print(\"kid\")"
   ]
  },
  {
   "cell_type": "code",
   "execution_count": 4,
   "id": "b773297e-c140-441d-ace8-10a50dc3cf06",
   "metadata": {},
   "outputs": [
    {
     "name": "stdin",
     "output_type": "stream",
     "text": [
      "enter a gender: Female\n",
      "enter age: 45\n"
     ]
    },
    {
     "name": "stdout",
     "output_type": "stream",
     "text": [
      "MAW\n"
     ]
    }
   ],
   "source": [
    "##### Q4)\n",
    "# wap ask the user to enter gender \n",
    "# if gender equal to male \n",
    "# ask the user to enter age \n",
    "# if age is greater than 60 then print ss\n",
    "# if age between 30 to 60 print MA MAN\n",
    "# if age between 15 to 30 print YOUNG MAN\n",
    "# otherwise print boy \n",
    "# if gender equal to female \n",
    "# ask the user to enter age \n",
    "# if age is greater than 60 then print ss\n",
    "# if age between 30 to 60 print MA WOMAN\n",
    "# if age between 15 to 30 print YOUNG GIRL\n",
    "# otherwise print GIRL\n",
    "#else:\n",
    "# print enter a valid gender\n",
    "\n",
    "gender=input('enter a gender:')\n",
    "if gender=='Male':\n",
    "    age=eval(input('enter age:'))\n",
    "    if age>=60:\n",
    "        print(\"ss\")\n",
    "    elif age>=30:\n",
    "        print('MAN')\n",
    "    elif age>=15:\n",
    "        print('YoungMan')\n",
    "    else:\n",
    "        print('Boy')\n",
    "\n",
    "elif gender=='Female':\n",
    "    age=eval(input('enter age:'))\n",
    "    if age>=60:\n",
    "        print(\"ss\")\n",
    "    elif age>=30:\n",
    "        print('MAW')\n",
    "    elif age>=15:\n",
    "        print('YounGirl')\n",
    "    else:\n",
    "        print('Girl')\n",
    "\n",
    "else:\n",
    "    print('enter a valid gender')"
   ]
  },
  {
   "cell_type": "code",
   "execution_count": 5,
   "id": "5b8579e7-05b6-46bf-8694-44fb1e74a9cd",
   "metadata": {},
   "outputs": [
    {
     "name": "stdin",
     "output_type": "stream",
     "text": [
      "enter a number -45\n"
     ]
    },
    {
     "name": "stdout",
     "output_type": "stream",
     "text": [
      "negative\n"
     ]
    }
   ],
   "source": [
    "#Q5)\n",
    "# wap ask the user enter a number \n",
    "# if number greater than or equal to zero \n",
    "# if number>zero then print positive \n",
    "# otherwise print zero \n",
    "# else print negative number\n",
    "\n",
    "num=eval(input(\"enter a number\"))\n",
    "if num>=0:\n",
    "    if num>0:\n",
    "        print('positive')\n",
    "    else:\n",
    "        print('zero')\n",
    "\n",
    "else: \n",
    "    print('negative')\n"
   ]
  },
  {
   "cell_type": "code",
   "execution_count": 1,
   "id": "78df80c6-1580-42b9-9488-0f3009d53fc8",
   "metadata": {},
   "outputs": [
    {
     "name": "stdout",
     "output_type": "stream",
     "text": [
      "1 for addition\n",
      "2 for subtraction\n",
      "3 for multiplication\n",
      "4 for division\n"
     ]
    },
    {
     "name": "stdin",
     "output_type": "stream",
     "text": [
      "number between 1 to 4= 2\n",
      "enter number 10\n",
      "enter number 10\n"
     ]
    },
    {
     "name": "stdout",
     "output_type": "stream",
     "text": [
      "subtraction 0\n"
     ]
    }
   ],
   "source": [
    "# Q6)\n",
    "# wap ask the user to enter number between 1 to 4\n",
    "# print some statements like below\n",
    "# enter 1 for addition\n",
    "# enter 2 for subtraction\n",
    "# enter 3 for multiplication \n",
    "# enter 4 for division\n",
    "\n",
    "# wap user that enter number between 1to4: operation\n",
    "# if operation==1\n",
    "#  n1=eval()\n",
    "# n2=eval()\n",
    "# add n1+n2\n",
    "# print(add)\n",
    "\n",
    "# elif oper==2\n",
    "# sub\n",
    "# elif oper==3\n",
    "#  mul\n",
    "# elif oper==4 \n",
    "# div\n",
    "\n",
    "print(\"1 for addition\")\n",
    "print(\"2 for subtraction\") \n",
    "print(\"3 for multiplication\")\n",
    "print(\"4 for division\")\n",
    "operation=int(input(\"number between 1 to 4=\"))\n",
    "if operation==1:\n",
    "    num1=eval(input(\"enter number\"))\n",
    "    num2=eval(input(\"enter number\"))\n",
    "    add=(num1+num2)\n",
    "    print(\"addition\",add)\n",
    "elif operation==2:\n",
    "    num1=eval(input(\"enter number\"))\n",
    "    num2=eval(input(\"enter number\"))\n",
    "    sub=(num1-num2)\n",
    "    print(\"subtraction\",sub)\n",
    "elif operation==3:\n",
    "    num1=eval(input(\"enter number\"))\n",
    "    num2=eval(input(\"enter number\"))\n",
    "    mul=(\"multiplication\",num1*num2)\n",
    "    print(\"multiplication\",mul)\n",
    "elif operation==4:\n",
    "    num1=eval(input(\"enter number\"))\n",
    "    num2=eval(input(\"enter number\"))\n",
    "    div=(\"division\",num1/num2)\n",
    "    print(\"division\",div)\n",
    "else:\n",
    "    print(\"enter valid number\")\n",
    "            "
   ]
  },
  {
   "cell_type": "code",
   "execution_count": null,
   "id": "eb1796fa-2e67-4e8d-abe9-e957d17f1e20",
   "metadata": {},
   "outputs": [],
   "source": []
  }
 ],
 "metadata": {
  "kernelspec": {
   "display_name": "Python 3 (ipykernel)",
   "language": "python",
   "name": "python3"
  },
  "language_info": {
   "codemirror_mode": {
    "name": "ipython",
    "version": 3
   },
   "file_extension": ".py",
   "mimetype": "text/x-python",
   "name": "python",
   "nbconvert_exporter": "python",
   "pygments_lexer": "ipython3",
   "version": "3.12.7"
  }
 },
 "nbformat": 4,
 "nbformat_minor": 5
}

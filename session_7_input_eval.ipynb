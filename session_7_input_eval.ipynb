{
 "cells": [
  {
   "cell_type": "markdown",
   "id": "0de3b573-5973-4639-bd9b-2722c2bc875a",
   "metadata": {},
   "source": [
    "**input**"
   ]
  },
  {
   "cell_type": "markdown",
   "id": "1a6a86c6-3728-4473-9a35-06fa45ae2674",
   "metadata": {},
   "source": [
    "- In above we provided the value\n",
    "- Input is the builtin function \n",
    "- using input the user can provide any value "
   ]
  },
  {
   "cell_type": "code",
   "execution_count": 3,
   "id": "b9ed82ac-0add-4456-a355-ff2c1620d38a",
   "metadata": {},
   "outputs": [
    {
     "data": {
      "text/plain": [
       "<bound method Kernel.raw_input of <ipykernel.ipkernel.IPythonKernel object at 0x0000026349CD3FE0>>"
      ]
     },
     "execution_count": 3,
     "metadata": {},
     "output_type": "execute_result"
    }
   ],
   "source": [
    "input"
   ]
  },
  {
   "cell_type": "markdown",
   "id": "cfc83c41-f422-4502-b13f-1cfed24c0ab4",
   "metadata": {},
   "source": [
    "**note: whenever if we see bound menthod or function which indicates we forgot the brackets**"
   ]
  },
  {
   "cell_type": "code",
   "execution_count": 5,
   "id": "dba81819-8420-4b5c-93c2-d0ee992d0302",
   "metadata": {},
   "outputs": [
    {
     "name": "stdin",
     "output_type": "stream",
     "text": [
      " 100\n"
     ]
    },
    {
     "data": {
      "text/plain": [
       "'100'"
      ]
     },
     "execution_count": 5,
     "metadata": {},
     "output_type": "execute_result"
    }
   ],
   "source": [
    "input()"
   ]
  },
  {
   "cell_type": "code",
   "execution_count": 6,
   "id": "6c10e333-8537-43c9-91b9-3ccbac3f551c",
   "metadata": {},
   "outputs": [
    {
     "name": "stdin",
     "output_type": "stream",
     "text": [
      " python\n"
     ]
    },
    {
     "data": {
      "text/plain": [
       "'python'"
      ]
     },
     "execution_count": 6,
     "metadata": {},
     "output_type": "execute_result"
    }
   ],
   "source": [
    "input()"
   ]
  },
  {
   "cell_type": "code",
   "execution_count": 7,
   "id": "b8da5d3a-02a2-4142-93ac-5686e83419db",
   "metadata": {},
   "outputs": [
    {
     "name": "stdin",
     "output_type": "stream",
     "text": [
      " 200\n"
     ]
    }
   ],
   "source": [
    "b=input()"
   ]
  },
  {
   "cell_type": "code",
   "execution_count": 8,
   "id": "997053c2-0776-4c24-98d6-30b9f6cb90f9",
   "metadata": {},
   "outputs": [
    {
     "data": {
      "text/plain": [
       "'200'"
      ]
     },
     "execution_count": 8,
     "metadata": {},
     "output_type": "execute_result"
    }
   ],
   "source": [
    "b"
   ]
  },
  {
   "cell_type": "code",
   "execution_count": 9,
   "id": "9e0b4914-562d-468c-a48b-7f820cecc437",
   "metadata": {},
   "outputs": [
    {
     "data": {
      "text/plain": [
       "'python'"
      ]
     },
     "execution_count": 9,
     "metadata": {},
     "output_type": "execute_result"
    }
   ],
   "source": [
    "name=\"python\"\n",
    "name"
   ]
  },
  {
   "cell_type": "code",
   "execution_count": 10,
   "id": "3c5eb3e0-ae96-48f1-8de5-8824fafd0919",
   "metadata": {},
   "outputs": [
    {
     "name": "stdin",
     "output_type": "stream",
     "text": [
      " sravya kirthana\n"
     ]
    }
   ],
   "source": [
    "name=input()"
   ]
  },
  {
   "cell_type": "code",
   "execution_count": 11,
   "id": "c14876a5-c76d-4145-b228-4a216d0a6d7b",
   "metadata": {},
   "outputs": [
    {
     "data": {
      "text/plain": [
       "'sravya kirthana'"
      ]
     },
     "execution_count": 11,
     "metadata": {},
     "output_type": "execute_result"
    }
   ],
   "source": [
    "name"
   ]
  },
  {
   "cell_type": "code",
   "execution_count": 12,
   "id": "52c01cda-92c7-482f-b427-ea1a7dada1be",
   "metadata": {},
   "outputs": [
    {
     "name": "stdin",
     "output_type": "stream",
     "text": [
      " 100\n",
      " 200\n",
      " 300\n"
     ]
    },
    {
     "data": {
      "text/plain": [
       "'300'"
      ]
     },
     "execution_count": 12,
     "metadata": {},
     "output_type": "execute_result"
    }
   ],
   "source": [
    "input()\n",
    "input()\n",
    "input()"
   ]
  },
  {
   "cell_type": "code",
   "execution_count": 13,
   "id": "a05407e9-1f52-4c37-b2df-55b0c31d5db8",
   "metadata": {},
   "outputs": [
    {
     "name": "stdin",
     "output_type": "stream",
     "text": [
      " 100\n",
      " 200\n",
      " 300\n"
     ]
    }
   ],
   "source": [
    "n1=input() #n1= '100'\n",
    "n2=input() #n2= '200'\n",
    "n3=input() #n3= '300'"
   ]
  },
  {
   "cell_type": "code",
   "execution_count": 14,
   "id": "e9cad62c-5212-4098-a2f0-4509ea6929df",
   "metadata": {},
   "outputs": [
    {
     "data": {
      "text/plain": [
       "('100', '200', '300')"
      ]
     },
     "execution_count": 14,
     "metadata": {},
     "output_type": "execute_result"
    }
   ],
   "source": [
    "n1,n2,n3"
   ]
  },
  {
   "cell_type": "code",
   "execution_count": 15,
   "id": "95418be6-92c8-4ac1-b3ef-5fabcf928e47",
   "metadata": {},
   "outputs": [
    {
     "name": "stdin",
     "output_type": "stream",
     "text": [
      "enter 100\n"
     ]
    },
    {
     "data": {
      "text/plain": [
       "'100'"
      ]
     },
     "execution_count": 15,
     "metadata": {},
     "output_type": "execute_result"
    }
   ],
   "source": [
    "input(\"enter\")"
   ]
  },
  {
   "cell_type": "code",
   "execution_count": 16,
   "id": "044b8a1a-8391-419b-8f4e-5000a45530be",
   "metadata": {},
   "outputs": [
    {
     "name": "stdin",
     "output_type": "stream",
     "text": [
      "enter the no.1: 100\n",
      "enter the no.2: 200\n"
     ]
    }
   ],
   "source": [
    "n1=input(\"enter the no.1:\")\n",
    "n2=input(\"enter the no.2:\")"
   ]
  },
  {
   "cell_type": "code",
   "execution_count": 17,
   "id": "e5e72dfd-a7e8-457c-b52f-5f16f6cc1d69",
   "metadata": {},
   "outputs": [
    {
     "name": "stdin",
     "output_type": "stream",
     "text": [
      "enter the no.1 100\n",
      "enter the no.2 200\n"
     ]
    },
    {
     "data": {
      "text/plain": [
       "'100200'"
      ]
     },
     "execution_count": 17,
     "metadata": {},
     "output_type": "execute_result"
    }
   ],
   "source": [
    "n1=input(\"enter the no.1\") #n1='100'\n",
    "n2=input(\"enter the no.2\") #n2= '200'\n",
    "n1+n2 #'100'+'200' = '100200'"
   ]
  },
  {
   "cell_type": "markdown",
   "id": "a33ab29e-f5e3-4611-b969-3d0d58b2f6e9",
   "metadata": {},
   "source": [
    "**input values by default string type**"
   ]
  },
  {
   "cell_type": "code",
   "execution_count": 19,
   "id": "43684f66-38e4-4fe7-86c8-68c7aa8f1f3c",
   "metadata": {},
   "outputs": [
    {
     "data": {
      "text/plain": [
       "'100200'"
      ]
     },
     "execution_count": 19,
     "metadata": {},
     "output_type": "execute_result"
    }
   ],
   "source": [
    "'100'+'200'"
   ]
  },
  {
   "cell_type": "code",
   "execution_count": 20,
   "id": "035e1e4c-c271-40ec-8e30-ba9e95884a4e",
   "metadata": {},
   "outputs": [
    {
     "data": {
      "text/plain": [
       "300"
      ]
     },
     "execution_count": 20,
     "metadata": {},
     "output_type": "execute_result"
    }
   ],
   "source": [
    "100+200"
   ]
  },
  {
   "cell_type": "code",
   "execution_count": 21,
   "id": "a7fff1f3-4290-4a60-a3fd-769d6fa8c4bf",
   "metadata": {},
   "outputs": [
    {
     "data": {
      "text/plain": [
       "'appleisfruite'"
      ]
     },
     "execution_count": 21,
     "metadata": {},
     "output_type": "execute_result"
    }
   ],
   "source": [
    "str1='apple'\n",
    "str2='is'\n",
    "str3='fruite'\n",
    "str1+str2+str3"
   ]
  },
  {
   "cell_type": "code",
   "execution_count": 22,
   "id": "a51144ab-2b37-4ca1-b711-949b2ef9e6ef",
   "metadata": {},
   "outputs": [
    {
     "name": "stdin",
     "output_type": "stream",
     "text": [
      "enter a string1:   apple\n",
      "enter a string2:  is\n",
      "enter a string3:  fruit \n"
     ]
    },
    {
     "data": {
      "text/plain": [
       "'  apple is fruit '"
      ]
     },
     "execution_count": 22,
     "metadata": {},
     "output_type": "execute_result"
    }
   ],
   "source": [
    "str1=input(\"enter a string1:\")\n",
    "str2=input(\"enter a string2:\")\n",
    "str3=input(\"enter a string3:\")\n",
    "str1+str2+str3"
   ]
  },
  {
   "cell_type": "code",
   "execution_count": 23,
   "id": "30a278ba-860e-4080-aad5-c7a541b94758",
   "metadata": {},
   "outputs": [
    {
     "data": {
      "text/plain": [
       "1100"
      ]
     },
     "execution_count": 23,
     "metadata": {},
     "output_type": "execute_result"
    }
   ],
   "source": [
    "n1= int('500')\n",
    "n2= int('600')\n",
    "n1+n2"
   ]
  },
  {
   "cell_type": "code",
   "execution_count": 24,
   "id": "59dbbf20-dbcf-48c0-9fa4-416011e902f3",
   "metadata": {},
   "outputs": [
    {
     "name": "stdin",
     "output_type": "stream",
     "text": [
      "enter the no.1 100\n",
      "enter the no.2 200\n"
     ]
    },
    {
     "data": {
      "text/plain": [
       "300"
      ]
     },
     "execution_count": 24,
     "metadata": {},
     "output_type": "execute_result"
    }
   ],
   "source": [
    "n1=int(input(\"enter the no.1\")) #n1=int('100')=100\n",
    "n2=int(input(\"enter the no.2\")) #n2=int('200')=200\n",
    "n1+n2 # 100+200 = '300'"
   ]
  },
  {
   "cell_type": "code",
   "execution_count": 25,
   "id": "bba276aa-9516-49e4-819b-0d23be83ebde",
   "metadata": {},
   "outputs": [
    {
     "name": "stdin",
     "output_type": "stream",
     "text": [
      "enter the no.1 100\n",
      "enter the no.2 200\n"
     ]
    },
    {
     "data": {
      "text/plain": [
       "300"
      ]
     },
     "execution_count": 25,
     "metadata": {},
     "output_type": "execute_result"
    }
   ],
   "source": [
    "n1=input(\"enter the no.1\") #n1='100'\n",
    "n2=input(\"enter the no.2\") #n2='200'\n",
    "int(n1)+int(n2) # int('100')+int('200') = 100+200=300"
   ]
  },
  {
   "cell_type": "code",
   "execution_count": 26,
   "id": "ffc32fa6-3495-4098-a8a2-40314036db6f",
   "metadata": {},
   "outputs": [
    {
     "name": "stdin",
     "output_type": "stream",
     "text": [
      "enter the no.1 10.5\n",
      "enter the no.2 2\n"
     ]
    },
    {
     "data": {
      "text/plain": [
       "12.5"
      ]
     },
     "execution_count": 26,
     "metadata": {},
     "output_type": "execute_result"
    }
   ],
   "source": [
    "n1=float(input(\"enter the no.1\")) #n1=int('10.2')=10.5\n",
    "n2=int(input(\"enter the no.2\")) #n2=int('2')=2\n",
    "n1+n2 # 10.5+2 = '12.5'"
   ]
  },
  {
   "cell_type": "markdown",
   "id": "55caf049-f863-453b-97d4-1500aaaa3157",
   "metadata": {},
   "source": [
    "**eval:**\n",
    "- eval means evaluate\n",
    "- it is related to math family \n",
    "- which means it works only number represent as strings \n",
    "- it will not not works on english letters \n",
    "- eval will convert the repective data types whic is user enter \n",
    "- if user enter 10 in quotes it will convert into 10 \n",
    "- if user enter 10.5 in quotes it will convert into 10.5"
   ]
  },
  {
   "cell_type": "code",
   "execution_count": null,
   "id": "a7f72455-f1c0-41cb-819f-435de3e8c79b",
   "metadata": {},
   "outputs": [],
   "source": [
    "int('10')  #works 10\n",
    "int('10.5') #error\n",
    "\n",
    "float('10') #10.0\n",
    "float('10.5') #10.5"
   ]
  },
  {
   "cell_type": "code",
   "execution_count": 29,
   "id": "6c59cd6b-f04e-44c1-88b2-9d4623dc3ad6",
   "metadata": {},
   "outputs": [
    {
     "data": {
      "text/plain": [
       "(10, 10.5)"
      ]
     },
     "execution_count": 29,
     "metadata": {},
     "output_type": "execute_result"
    }
   ],
   "source": [
    "eval('10'),eval('10.5')"
   ]
  },
  {
   "cell_type": "code",
   "execution_count": 30,
   "id": "a3516b36-adce-48a9-a58d-697972690d55",
   "metadata": {},
   "outputs": [
    {
     "name": "stdin",
     "output_type": "stream",
     "text": [
      "enter the no.1 100\n",
      "enter the no.2 200\n"
     ]
    },
    {
     "data": {
      "text/plain": [
       "300"
      ]
     },
     "execution_count": 30,
     "metadata": {},
     "output_type": "execute_result"
    }
   ],
   "source": [
    "n1=eval(input(\"enter the no.1\")) #n1=eval('100')=100\n",
    "n2=eval(input(\"enter the no.2\")) #n2=eval('200')=200\n",
    "n1+n2 # 100+200 = '300'"
   ]
  },
  {
   "cell_type": "markdown",
   "id": "5cefa1f4-2e9a-455d-8e9b-5833c415cbe3",
   "metadata": {},
   "source": [
    "- strings or english does not require eval\n",
    "\n",
    "- avg= eval(n1+n2+n3)"
   ]
  }
 ],
 "metadata": {
  "kernelspec": {
   "display_name": "Python 3 (ipykernel)",
   "language": "python",
   "name": "python3"
  },
  "language_info": {
   "codemirror_mode": {
    "name": "ipython",
    "version": 3
   },
   "file_extension": ".py",
   "mimetype": "text/x-python",
   "name": "python",
   "nbconvert_exporter": "python",
   "pygments_lexer": "ipython3",
   "version": "3.12.7"
  }
 },
 "nbformat": 4,
 "nbformat_minor": 5
}

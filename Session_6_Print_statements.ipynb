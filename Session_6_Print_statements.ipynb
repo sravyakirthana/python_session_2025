{
 "cells": [
  {
   "cell_type": "code",
   "execution_count": 1,
   "id": "facbfce2-ebc2-4325-9c7f-49b67c379fd5",
   "metadata": {},
   "outputs": [
    {
     "data": {
      "text/plain": [
       "20"
      ]
     },
     "execution_count": 1,
     "metadata": {},
     "output_type": "execute_result"
    }
   ],
   "source": [
    "a=10\n",
    "b=20\n",
    "a\n",
    "b"
   ]
  },
  {
   "cell_type": "code",
   "execution_count": null,
   "id": "2e9215a5-0616-4f73-94f8-3dd6dded92e3",
   "metadata": {},
   "outputs": [],
   "source": []
  },
  {
   "cell_type": "code",
   "execution_count": 2,
   "id": "14f9ff60-1bb6-47c7-963e-a3604244fbeb",
   "metadata": {},
   "outputs": [
    {
     "name": "stdout",
     "output_type": "stream",
     "text": [
      "10\n",
      "20\n"
     ]
    }
   ],
   "source": [
    "a=10\n",
    "b=20\n",
    "print(a)\n",
    "print(b)"
   ]
  },
  {
   "cell_type": "code",
   "execution_count": 3,
   "id": "dcb5fda0-8494-4645-9228-9da27d4b3039",
   "metadata": {},
   "outputs": [
    {
     "name": "stdout",
     "output_type": "stream",
     "text": [
      "10\n",
      "20\n"
     ]
    }
   ],
   "source": [
    "print(10)\n",
    "print(20)"
   ]
  },
  {
   "cell_type": "code",
   "execution_count": 4,
   "id": "a31047d3-94e0-43c4-b3fc-2679a58f8142",
   "metadata": {},
   "outputs": [
    {
     "name": "stdout",
     "output_type": "stream",
     "text": [
      "10\n",
      "20\n"
     ]
    },
    {
     "data": {
      "text/plain": [
       "(None, None)"
      ]
     },
     "execution_count": 4,
     "metadata": {},
     "output_type": "execute_result"
    }
   ],
   "source": [
    "print(10),print(20)"
   ]
  },
  {
   "cell_type": "code",
   "execution_count": 5,
   "id": "431ab1b1-7089-49c6-be54-9cae42e07e33",
   "metadata": {},
   "outputs": [
    {
     "data": {
      "text/plain": [
       "(10, 20)"
      ]
     },
     "execution_count": 5,
     "metadata": {},
     "output_type": "execute_result"
    }
   ],
   "source": [
    "10,20"
   ]
  },
  {
   "cell_type": "code",
   "execution_count": 6,
   "id": "1171a169-7bf8-4ea8-a9ef-5a2f14fd856c",
   "metadata": {},
   "outputs": [
    {
     "name": "stdout",
     "output_type": "stream",
     "text": [
      "10 20\n"
     ]
    }
   ],
   "source": [
    "print(a,b)"
   ]
  },
  {
   "cell_type": "code",
   "execution_count": 7,
   "id": "81d8f000-5f2e-42d6-a420-ab56e395eff3",
   "metadata": {},
   "outputs": [
    {
     "name": "stdout",
     "output_type": "stream",
     "text": [
      "30 hello how are you\n"
     ]
    }
   ],
   "source": [
    "print(30,'hello','how are you')\n",
    "#3values"
   ]
  },
  {
   "cell_type": "code",
   "execution_count": 11,
   "id": "fd0f77be-893d-44ff-8001-2db4baa06512",
   "metadata": {},
   "outputs": [
    {
     "name": "stdout",
     "output_type": "stream",
     "text": [
      "the addition of 100 and 200 is 300\n",
      "the addition of num1 and num2 is 300\n",
      "the addition of 1000 and 200 is 1200\n"
     ]
    }
   ],
   "source": [
    "num1=1000\n",
    "num2=200\n",
    "add=num1+num2\n",
    "#the addition of 100 and 200 is 300 \n",
    "print(\"the addition of 100 and 200 is 300\")\n",
    "print(\"the addition of num1 and num2 is 300\")\n",
    "print(\"the addition of\",num1,\"and\",num2,\"is\",add)"
   ]
  },
  {
   "cell_type": "code",
   "execution_count": 17,
   "id": "5f785c32-a9da-4df2-afe7-d0a658c5ed5b",
   "metadata": {},
   "outputs": [
    {
     "name": "stdout",
     "output_type": "stream",
     "text": [
      "my name is python im 10 years old came from hyderabad\n",
      "my name is python im 10 years old came from hyd\n",
      "my name is name im age years old came from city\n"
     ]
    }
   ],
   "source": [
    "name=\"python\"\n",
    "age=10\n",
    "city=\"hyd\"\n",
    "# my name is python im 10 years old came from hyderabad\n",
    "print(\"my name is python im 10 years old came from hyderabad\")\n",
    "print(\"my name is name im age years old came from city\")\n",
    "print(\"my name is\", name, \"im\",age, \"years old came from\", city)"
   ]
  },
  {
   "cell_type": "markdown",
   "id": "5d2ea2bc-62f4-46a0-974f-11bcad52026d",
   "metadata": {},
   "source": [
    "**FORMAT METHOD:**"
   ]
  },
  {
   "cell_type": "code",
   "execution_count": 20,
   "id": "006ec5a2-97d1-4cea-aef4-747a8d6b34d4",
   "metadata": {},
   "outputs": [
    {
     "name": "stdout",
     "output_type": "stream",
     "text": [
      "my name is python im 10 years old came from hyd\n"
     ]
    }
   ],
   "source": [
    "name=\"python\"\n",
    "age=10\n",
    "city=\"hyd\"\n",
    "print(\"my name is {} im {} years old came from {}\".format(name,age,city))"
   ]
  },
  {
   "cell_type": "code",
   "execution_count": 2,
   "id": "b4c28357-e8bf-462c-8e02-f98aa2a402a8",
   "metadata": {},
   "outputs": [
    {
     "name": "stdout",
     "output_type": "stream",
     "text": [
      "the addition of 100 and 200 is 300\n",
      "the addition of 100 and 200 is 300\n"
     ]
    }
   ],
   "source": [
    "num1=100\n",
    "num2=200\n",
    "add=num1+num2\n",
    "#the addition of num1 and num2 is 300 \n",
    "print(\"the addition of 100 and 200 is 300\")\n",
    "print(\"the addition of {} and {} is {}\".format(num1,num2,add))"
   ]
  },
  {
   "cell_type": "code",
   "execution_count": 36,
   "id": "a78bea5a-3139-44f3-a0c1-fba69dffec0f",
   "metadata": {},
   "outputs": [
    {
     "name": "stdout",
     "output_type": "stream",
     "text": [
      "the sub of 100 and 200 is -100\n",
      "the multiplication of num1 and num2 is 20000\n",
      "the div of 100 and 200 is 0.5\n",
      "the sub of 100 and 200 is -100\n",
      "the multiplication of 100 and 200 is 20000\n",
      "the div of 100 and 200 is 0.5\n",
      "the sub of 100 and 200 is -100\n",
      "the multiplication of 100 and 200 is 20000\n",
      "the div of 100 and 200 is 0.5\n"
     ]
    }
   ],
   "source": [
    "num1=100\n",
    "num2=200\n",
    "sub=num1-num2\n",
    "multiplication=num1*num2\n",
    "div=num1/num2\n",
    "print(\"the sub of 100 and 200 is -100\")\n",
    "print(\"the multiplication of num1 and num2 is 20000\")\n",
    "print(\"the div of 100 and 200 is 0.5\")\n",
    "print(\"the sub of {} and {} is {}\".format(num1,num2,sub))\n",
    "print(\"the multiplication of {} and {} is {}\".format(num1,num2,multiplication))\n",
    "print(\"the div of {} and {} is {}\".format(num1,num2,div))\n",
    "print(f\"the sub of {num1} and {num2} is {sub}\")\n",
    "print(f\"the multiplication of {num1} and {num2} is {multiplication}\")\n",
    "print(f\"the div of {num1} and {num2} is {div}\")"
   ]
  },
  {
   "cell_type": "code",
   "execution_count": 1,
   "id": "9a595a2f-d907-4fd5-9476-383a3835e06a",
   "metadata": {},
   "outputs": [
    {
     "name": "stdout",
     "output_type": "stream",
     "text": [
      "the average of a,b,c is : avg\n",
      "the average of 10,20,30 is : 20.0\n"
     ]
    }
   ],
   "source": [
    "a=10\n",
    "b=20\n",
    "c=30\n",
    "avg=(a+b+c)/3\n",
    "print(\"the average of a,b,c is : avg\")\n",
    "print(\"the average of {},{},{} is : {}\".format(a,b,c,avg))"
   ]
  },
  {
   "cell_type": "code",
   "execution_count": 2,
   "id": "5d4dc11a-9c48-4e8b-8331-9b62f8ae4301",
   "metadata": {},
   "outputs": [
    {
     "name": "stdout",
     "output_type": "stream",
     "text": [
      "======================ADDITION===========================\n",
      "the addition of 100 and 200 is 300\n",
      "the addition of 1000 and 200 is 1200\n",
      "========================SUBTRACTION===========================\n",
      "the subtraction of num1 and num2 is sub\n",
      "the subtraction of 100 and 200 is -100\n",
      "=======================MULTIPLICATION============================\n",
      "the division of num1 and num2 is div\n",
      "the division of 100 and 200 is 0.5\n",
      "========================DIVISION==========================\n",
      "the average of a,b,c is : avg\n",
      "the average of 10,20,30 is : 20.0\n"
     ]
    }
   ],
   "source": [
    "print(\"======================ADDITION===========================\")\n",
    "num1=1000\n",
    "num2=200\n",
    "add=num1+num2\n",
    "# the addition of 100 and 200 is 300\n",
    "print(\"the addition of 100 and 200 is 300\")\n",
    "print(\"the addition of {} and {} is {}\".format(num1,num2,add))\n",
    "\n",
    "print(\"========================SUBTRACTION===========================\")\n",
    "\n",
    "num1=100\n",
    "num2=200\n",
    "sub=num1-num2\n",
    "print(\"the subtraction of num1 and num2 is sub\")\n",
    "print(\"the subtraction of {} and {} is {}\".format(num1,num2,sub))\n",
    "\n",
    "\n",
    "print(\"=======================MULTIPLICATION============================\")\n",
    "\n",
    "\n",
    "num1=100\n",
    "num2=200\n",
    "div=num1/num2\n",
    "print(\"the division of num1 and num2 is div\")\n",
    "print(\"the division of {} and {} is {}\".format(num1,num2,div))\n",
    "\n",
    "\n",
    "print(\"========================DIVISION==========================\")\n",
    "\n",
    "a=10\n",
    "b=20\n",
    "c=30\n",
    "avg=(a+b+c)/3\n",
    "print(\"the average of a,b,c is : avg\")\n",
    "print(\"the average of {},{},{} is : {}\".format(a,b,c,avg))"
   ]
  },
  {
   "cell_type": "markdown",
   "id": "783cf055-65c7-4423-9219-5fb0c0bf1e7a",
   "metadata": {},
   "source": [
    "**f string: formatted string method:**"
   ]
  },
  {
   "cell_type": "code",
   "execution_count": 35,
   "id": "ad81f7d9-857d-4870-977c-cbfa993d56d8",
   "metadata": {},
   "outputs": [
    {
     "name": "stdout",
     "output_type": "stream",
     "text": [
      "addition of num1 and num2 is 300\n",
      "the addition of 200 and 200 is 300\n",
      "the addition of 100 and 200 is 300\n"
     ]
    }
   ],
   "source": [
    "num1=100\n",
    "num2=200\n",
    "add=num1=num2\n",
    "\n",
    "print(\"addition of num1 and num2 is 300\")\n",
    "print(\"the addition of {} and {} is {}\".format(num1,num2,300))\n",
    "print(f\"the addition of {100} and {200} is {300}\")"
   ]
  },
  {
   "cell_type": "markdown",
   "id": "b22ca36d-03f0-4694-92e4-0877c85a7d30",
   "metadata": {},
   "source": [
    "**Round:**"
   ]
  },
  {
   "cell_type": "code",
   "execution_count": null,
   "id": "8a2c1718-4fa5-42be-bf54-8cc873f08ecb",
   "metadata": {},
   "outputs": [],
   "source": [
    "# print()\n",
    "# type()\n",
    "# int()\n",
    "# float()\n",
    "# str()\n",
    "# bool()\n",
    "# round()\n",
    "\n",
    "#ctrl+A\n",
    "#CTRL+/ "
   ]
  },
  {
   "cell_type": "code",
   "execution_count": 38,
   "id": "be9eb89e-98d7-417d-9f9d-54d2b9e9f7e9",
   "metadata": {},
   "outputs": [
    {
     "data": {
      "text/plain": [
       "11"
      ]
     },
     "execution_count": 38,
     "metadata": {},
     "output_type": "execute_result"
    }
   ],
   "source": [
    "round(10.77777) #10.7 ===> 11"
   ]
  },
  {
   "cell_type": "code",
   "execution_count": 39,
   "id": "c08e1870-655d-4099-bb07-67cb648d34c5",
   "metadata": {},
   "outputs": [
    {
     "data": {
      "text/plain": [
       "10.78"
      ]
     },
     "execution_count": 39,
     "metadata": {},
     "output_type": "execute_result"
    }
   ],
   "source": [
    "round(10.77777,2) "
   ]
  },
  {
   "cell_type": "code",
   "execution_count": 40,
   "id": "0ff40b2e-baf5-4f36-b991-15de50f57cc1",
   "metadata": {},
   "outputs": [
    {
     "data": {
      "text/plain": [
       "10.778"
      ]
     },
     "execution_count": 40,
     "metadata": {},
     "output_type": "execute_result"
    }
   ],
   "source": [
    "round(10.77777,3) "
   ]
  },
  {
   "cell_type": "code",
   "execution_count": 41,
   "id": "1b0b11a6-62f3-4494-9e04-073579022e51",
   "metadata": {},
   "outputs": [
    {
     "name": "stdout",
     "output_type": "stream",
     "text": [
      "11\n",
      "10.78\n",
      "10.778\n"
     ]
    }
   ],
   "source": [
    "print(round(10.77777))\n",
    "print(round(10.77777,2))\n",
    "print(round(10.77777,3)) "
   ]
  },
  {
   "cell_type": "code",
   "execution_count": 45,
   "id": "bedc06a3-1337-4890-8913-2e8e14240e8f",
   "metadata": {},
   "outputs": [
    {
     "name": "stdout",
     "output_type": "stream",
     "text": [
      "20.33\n",
      "20.33\n"
     ]
    }
   ],
   "source": [
    "a=11\n",
    "b=20\n",
    "c=30\n",
    "avg=(a+b+c)/3\n",
    "avg1=round(avg,2)\n",
    "print(avg1)\n",
    "print(round(avg,2))"
   ]
  },
  {
   "cell_type": "markdown",
   "id": "e1f979f3-3be5-40b7-a564-52de228cca5f",
   "metadata": {},
   "source": [
    "**I have multiple print statements but i want to show in single line:**"
   ]
  },
  {
   "cell_type": "code",
   "execution_count": 47,
   "id": "5bfc3673-e221-4403-83a2-0ccb8e9c7450",
   "metadata": {},
   "outputs": [
    {
     "name": "stdout",
     "output_type": "stream",
     "text": [
      "10\n",
      "20\n"
     ]
    }
   ],
   "source": [
    "print(10)\n",
    "print(20)"
   ]
  },
  {
   "cell_type": "markdown",
   "id": "e4cf72a0-e945-48ad-8e06-3d14213ebc49",
   "metadata": {},
   "source": [
    "**End operator:**"
   ]
  },
  {
   "cell_type": "code",
   "execution_count": 51,
   "id": "ab37722b-ac7b-4770-b4d9-f5024840cf58",
   "metadata": {},
   "outputs": [
    {
     "name": "stdout",
     "output_type": "stream",
     "text": [
      "10  20\n"
     ]
    }
   ],
   "source": [
    "print(10,end=\"  \")\n",
    "print(20)"
   ]
  },
  {
   "cell_type": "code",
   "execution_count": 52,
   "id": "98c6fc88-13ab-4562-bc2f-4832deac1a7c",
   "metadata": {},
   "outputs": [
    {
     "name": "stdout",
     "output_type": "stream",
     "text": [
      "10 20 20\n"
     ]
    }
   ],
   "source": [
    "print(10,end=\" \")\n",
    "print(20,end=\" \")\n",
    "print(20)"
   ]
  },
  {
   "cell_type": "code",
   "execution_count": 53,
   "id": "8b474d12-9438-4999-8f74-7480930f31f2",
   "metadata": {},
   "outputs": [
    {
     "name": "stdout",
     "output_type": "stream",
     "text": [
      "hello how are you\n"
     ]
    }
   ],
   "source": [
    "print('hello',end=' ')\n",
    "print('how',end=' ')\n",
    "print('are',end=' ')  \n",
    "print('you')"
   ]
  },
  {
   "cell_type": "markdown",
   "id": "9a1862ae-03ea-403b-9e16-6e330243f1af",
   "metadata": {},
   "source": [
    "**I have multiple values in a single print statement,**\n",
    "**i want print them with some seperation**"
   ]
  },
  {
   "cell_type": "code",
   "execution_count": 54,
   "id": "9d44438e-cedf-48b5-8776-667fabe7e398",
   "metadata": {},
   "outputs": [
    {
     "name": "stdout",
     "output_type": "stream",
     "text": [
      "10 20 30\n"
     ]
    }
   ],
   "source": [
    "print(10,20,30)\n",
    "#10==== 20====== 30"
   ]
  },
  {
   "cell_type": "markdown",
   "id": "94bfdadc-c8c3-4c5a-ae79-a5d0af5f5f38",
   "metadata": {},
   "source": [
    "**Sep:**"
   ]
  },
  {
   "cell_type": "code",
   "execution_count": 57,
   "id": "5d4f913e-05fa-4d7b-80dc-6a3287fb5aa2",
   "metadata": {},
   "outputs": [
    {
     "name": "stdout",
     "output_type": "stream",
     "text": [
      "10===>20===>30\n"
     ]
    }
   ],
   "source": [
    "print(10,20,30,sep='===>')"
   ]
  },
  {
   "cell_type": "code",
   "execution_count": null,
   "id": "5aea7ff3-c344-4ac5-8c98-4cae1eb032f7",
   "metadata": {
    "scrolled": true
   },
   "outputs": [],
   "source": [
    "#wap take the radius of a circle and calculate area of the circle\n",
    "#var1:radius var2: pi=3.14\n",
    "#formuale: pi*radius*radius\n",
    "#print the answers usinG f string and format \n",
    "\n",
    "#wap take th breath and height of a right angle triangle \n",
    "#calculate the area\n",
    "#var1: breadth var2:ht\n",
    "#formuale: 0.5*breadth*heigh\n",
    "\n",
    "#wap take the bill amount and the tip amount \n",
    "#calculate total bill\n",
    "#var1:bill amount var2:tip amount\n",
    "#formulae\n",
    "\n",
    "#wap take the length and breadth of a rectangle calculate area\n",
    "#var1:length var2: breadth\n",
    "#formulae: length*breadth "
   ]
  },
  {
   "cell_type": "code",
   "execution_count": 2,
   "id": "e4b23119-3b83-4448-97b9-b1ce5eaf989a",
   "metadata": {},
   "outputs": [
    {
     "name": "stdin",
     "output_type": "stream",
     "text": [
      "Enter a radius: 3\n"
     ]
    },
    {
     "name": "stdout",
     "output_type": "stream",
     "text": [
      "area of circle is 3 and 3.14 and 28.259999999999998\n",
      "area of circle is 3 and 3.14 and 28.259999999999998\n"
     ]
    }
   ],
   "source": [
    "var1=int(input(\"Enter a radius:\"))\n",
    "pi=3.14\n",
    "area=pi*var1*var1\n",
    "print(f\"area of circle is {var1} and {pi} and {area}\")\n",
    "print(\"area of circle is {} and {} and {}\".format(var1,pi,area))"
   ]
  },
  {
   "cell_type": "code",
   "execution_count": 3,
   "id": "cb363b69-f509-40fa-89b3-06fb33be82a9",
   "metadata": {},
   "outputs": [
    {
     "name": "stdout",
     "output_type": "stream",
     "text": [
      "the area of circle is 1256.0\n"
     ]
    }
   ],
   "source": [
    "radius=20\n",
    "pi=3.14\n",
    "area=pi*radius*radius\n",
    "print(f\"the area of circle is {area}\")"
   ]
  },
  {
   "cell_type": "code",
   "execution_count": 4,
   "id": "ad8b0010-edb1-4ced-871d-f0b7c4f015da",
   "metadata": {},
   "outputs": [
    {
     "name": "stdin",
     "output_type": "stream",
     "text": [
      "Enter breadth 10\n",
      "enter height 5\n"
     ]
    },
    {
     "name": "stdout",
     "output_type": "stream",
     "text": [
      "area of right angle triangle whose breadth 10 and height 5 its area is 25.0\n",
      "area of right angle triangle whose breadth 10 and height 5 its area is 25.0\n"
     ]
    }
   ],
   "source": [
    "var1=int(input(\"Enter breadth\"))\n",
    "var2=int(input(\"enter height\"))  \n",
    "area=0.5*(var1)*(var2)\n",
    "print(f\"area of right angle triangle whose breadth {var1} and height {var2} its area is {area}\")\n",
    "print(\"area of right angle triangle whose breadth {} and height {} its area is {}\".format(var1,var2,area))"
   ]
  },
  {
   "cell_type": "code",
   "execution_count": 4,
   "id": "6b65a23a-6f5e-4498-a7a1-5b786f75e27d",
   "metadata": {},
   "outputs": [
    {
     "name": "stdout",
     "output_type": "stream",
     "text": [
      "the area of right angle triangle is: 400.0\n"
     ]
    }
   ],
   "source": [
    "breadth=20\n",
    "height=40\n",
    "area=0.5*breadth*height\n",
    "print(f\"the area of right angle triangle is: {area}\")"
   ]
  },
  {
   "cell_type": "code",
   "execution_count": 2,
   "id": "82081cc6-b40b-46b7-8eb4-cbd994aeea95",
   "metadata": {},
   "outputs": [
    {
     "name": "stdin",
     "output_type": "stream",
     "text": [
      "bill amount 1000\n",
      "tip amount 200\n"
     ]
    },
    {
     "name": "stdout",
     "output_type": "stream",
     "text": [
      "bill amount 1000 + tip amount 200 = total amount 1200\n",
      "bill amount 1000 + tip amount 200 = total amount 1200\n"
     ]
    }
   ],
   "source": [
    "var1=int(input(\"bill amount\"))\n",
    "var2=int(input(\"tip amount\"))\n",
    "bill=var1+var2\n",
    "print(\"bill amount {} + tip amount {} = total amount {}\".format(var1,var2,bill))\n",
    "print(f\"bill amount {var1} + tip amount {var2} = total amount {bill}\")"
   ]
  },
  {
   "cell_type": "code",
   "execution_count": 5,
   "id": "0c7ddd5e-3c8a-4912-81eb-1fc4b400fc5a",
   "metadata": {},
   "outputs": [
    {
     "data": {
      "text/plain": [
       "1200"
      ]
     },
     "execution_count": 5,
     "metadata": {},
     "output_type": "execute_result"
    }
   ],
   "source": [
    "bill_amount=1000\n",
    "tip_amount=200\n",
    "total_bill=bill_amount+tip_amount\n",
    "total_bill"
   ]
  },
  {
   "cell_type": "code",
   "execution_count": 9,
   "id": "b59dd42e-2fa5-40bd-8f75-46597752c2ed",
   "metadata": {},
   "outputs": [
    {
     "name": "stdin",
     "output_type": "stream",
     "text": [
      "length 50\n",
      "breadth 30\n"
     ]
    },
    {
     "name": "stdout",
     "output_type": "stream",
     "text": [
      "area of rectangle 1500 where its length is 50 and beadth is 30\n",
      "area of rectangle 1500 where its length is 50 and beadth is 30\n"
     ]
    }
   ],
   "source": [
    "var1=int(input(\"length\"))\n",
    "var2=int(input(\"breadth\"))\n",
    "area=var1*var2 \n",
    "print(\"area of rectangle {} where its length is {} and beadth is {}\".format(area,var1,var2))\n",
    "print(f\"area of rectangle {area} where its length is {var1} and beadth is {var2}\")"
   ]
  },
  {
   "cell_type": "code",
   "execution_count": 6,
   "id": "6850b20b-e07e-4f58-8521-d6c716a5df90",
   "metadata": {},
   "outputs": [
    {
     "name": "stdout",
     "output_type": "stream",
     "text": [
      "the area of rectangle is : 800\n"
     ]
    }
   ],
   "source": [
    "breadth=20\n",
    "length=40\n",
    "area=length*breadth \n",
    "print(f\"the area of rectangle is : {area}\") "
   ]
  }
 ],
 "metadata": {
  "kernelspec": {
   "display_name": "Python 3 (ipykernel)",
   "language": "python",
   "name": "python3"
  },
  "language_info": {
   "codemirror_mode": {
    "name": "ipython",
    "version": 3
   },
   "file_extension": ".py",
   "mimetype": "text/x-python",
   "name": "python",
   "nbconvert_exporter": "python",
   "pygments_lexer": "ipython3",
   "version": "3.12.7"
  }
 },
 "nbformat": 4,
 "nbformat_minor": 5
}

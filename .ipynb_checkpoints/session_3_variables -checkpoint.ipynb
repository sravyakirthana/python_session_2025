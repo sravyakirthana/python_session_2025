{
 "cells": [
  {
   "cell_type": "markdown",
   "id": "19aa3bf2-709c-4420-9100-f20061dbd503",
   "metadata": {},
   "source": [
    "# Variables "
   ]
  },
  {
   "cell_type": "code",
   "execution_count": 1,
   "id": "c8f687f8-9668-41eb-bd81-ca557dff6bdc",
   "metadata": {},
   "outputs": [
    {
     "data": {
      "text/plain": [
       "'C:\\\\Users\\\\User\\\\python_session_2025'"
      ]
     },
     "execution_count": 1,
     "metadata": {},
     "output_type": "execute_result"
    }
   ],
   "source": [
    "import os\n",
    "os.getcwd()"
   ]
  },
  {
   "cell_type": "markdown",
   "id": "5761cfcd-d8eb-47fe-92f1-1bc845b5b8ab",
   "metadata": {},
   "source": [
    "- variables are used to store the data \n",
    "- The data can be changed \n",
    "- These variables can be use to manipulate python code "
   ]
  },
  {
   "cell_type": "code",
   "execution_count": 2,
   "id": "6ae5d3b7-d589-4ecd-b31a-417dd325961d",
   "metadata": {},
   "outputs": [
    {
     "data": {
      "text/plain": [
       "100"
      ]
     },
     "execution_count": 2,
     "metadata": {},
     "output_type": "execute_result"
    }
   ],
   "source": [
    "number=100\n",
    "# 100 is stored in a variable called as number ( variable should be in black color) \n",
    "number"
   ]
  },
  {
   "cell_type": "code",
   "execution_count": 4,
   "id": "e463e746-e385-459d-b52f-a79616f9a4b7",
   "metadata": {},
   "outputs": [
    {
     "data": {
      "text/plain": [
       "200"
      ]
     },
     "execution_count": 4,
     "metadata": {},
     "output_type": "execute_result"
    }
   ],
   "source": [
    "NUMBER=200\n",
    "NUMBER "
   ]
  },
  {
   "cell_type": "code",
   "execution_count": 5,
   "id": "e86a665e-02e3-4c42-ba04-3e218ab33976",
   "metadata": {},
   "outputs": [
    {
     "data": {
      "text/plain": [
       "(200, 100)"
      ]
     },
     "execution_count": 5,
     "metadata": {},
     "output_type": "execute_result"
    }
   ],
   "source": [
    "NUMBER, number "
   ]
  },
  {
   "cell_type": "code",
   "execution_count": 6,
   "id": "36974a74-9846-492d-86ba-acd877920dfd",
   "metadata": {},
   "outputs": [
    {
     "data": {
      "text/plain": [
       "300"
      ]
     },
     "execution_count": 6,
     "metadata": {},
     "output_type": "execute_result"
    }
   ],
   "source": [
    "NUMber=300 \n",
    "NUMber"
   ]
  },
  {
   "cell_type": "code",
   "execution_count": 7,
   "id": "b4f5943c-df9c-444e-a503-90a041521508",
   "metadata": {},
   "outputs": [
    {
     "data": {
      "text/plain": [
       "(100, 200, 300)"
      ]
     },
     "execution_count": 7,
     "metadata": {},
     "output_type": "execute_result"
    }
   ],
   "source": [
    "number, NUMBER, NUMber"
   ]
  },
  {
   "cell_type": "code",
   "execution_count": 10,
   "id": "d6d312d5-6802-4e17-a99e-f3e25a2a8ef3",
   "metadata": {},
   "outputs": [
    {
     "data": {
      "text/plain": [
       "400"
      ]
     },
     "execution_count": 10,
     "metadata": {},
     "output_type": "execute_result"
    }
   ],
   "source": [
    "number123= 400\n",
    "number123"
   ]
  },
  {
   "cell_type": "markdown",
   "id": "210cffe6-efe0-4833-bc77-aaa7068cd76c",
   "metadata": {},
   "source": [
    "**NOTES:**\n",
    "- variables generally in black color\n",
    "- green color should not be in green color\n",
    "- number as suffix can work \n",
    "- number as suffix fail\n",
    "- special characters are not allowed only underscore(_) can be used a variable "
   ]
  },
  {
   "cell_type": "code",
   "execution_count": 13,
   "id": "0e5eb2b4-2bda-4a07-8ca3-0269678046c7",
   "metadata": {},
   "outputs": [
    {
     "data": {
      "text/plain": [
       "300"
      ]
     },
     "execution_count": 13,
     "metadata": {},
     "output_type": "execute_result"
    }
   ],
   "source": [
    "number_one=300\n",
    "number_one"
   ]
  },
  {
   "cell_type": "code",
   "execution_count": 15,
   "id": "bf459838-cd24-4732-902f-a81552aca214",
   "metadata": {},
   "outputs": [
    {
     "data": {
      "text/plain": [
       "1000"
      ]
     },
     "execution_count": 15,
     "metadata": {},
     "output_type": "execute_result"
    }
   ],
   "source": [
    "_=1000\n",
    "_"
   ]
  },
  {
   "cell_type": "markdown",
   "id": "7e5f1466-640f-4988-ac1c-daba1b7d6000",
   "metadata": {},
   "source": [
    "number=100 \n",
    "NUMBER=200\n",
    "NUMber=300\n",
    "number123=400\n",
    "123number=500\n",
    "number%=600\n",
    "number one=700 \n",
    "number_one=800\n",
    "_=900\n"
   ]
  },
  {
   "cell_type": "markdown",
   "id": "2efc7ec4-5902-499d-890c-f8d419843bd0",
   "metadata": {},
   "source": [
    "for \n",
    "while\n",
    "True\n",
    "False\n",
    "\n",
    "**keywords can not use as variables**"
   ]
  },
  {
   "cell_type": "code",
   "execution_count": null,
   "id": "6e53aae1-39ee-4de2-be13-ac7f8ddf63c8",
   "metadata": {},
   "outputs": [],
   "source": []
  },
  {
   "cell_type": "code",
   "execution_count": null,
   "id": "94242751-c78f-417a-860a-18b7017fd0f6",
   "metadata": {},
   "outputs": [],
   "source": []
  }
 ],
 "metadata": {
  "kernelspec": {
   "display_name": "Python 3 (ipykernel)",
   "language": "python",
   "name": "python3"
  },
  "language_info": {
   "codemirror_mode": {
    "name": "ipython",
    "version": 3
   },
   "file_extension": ".py",
   "mimetype": "text/x-python",
   "name": "python",
   "nbconvert_exporter": "python",
   "pygments_lexer": "ipython3",
   "version": "3.12.7"
  }
 },
 "nbformat": 4,
 "nbformat_minor": 5
}
